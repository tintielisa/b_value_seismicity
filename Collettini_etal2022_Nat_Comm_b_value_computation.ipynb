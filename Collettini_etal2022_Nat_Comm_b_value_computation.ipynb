{
 "cells": [
  {
   "cell_type": "markdown",
   "metadata": {},
   "source": [
    "## Differences between on fault and distributed seismicity explained by rock and fault rheology"
   ]
  },
  {
   "cell_type": "markdown",
   "metadata": {},
   "source": [
    "Collettini, Barchi, De Paola, Trippetta and Tinti"
   ]
  },
  {
   "cell_type": "markdown",
   "metadata": {},
   "source": [
    "In this notebook, we compute the b-values for \"On-fault\" seismicity, \"Down-dip hangingwall seismicity\" (DhWS), and for  three Clusters C1-C3 in the footwall of the Vettore fault, and reproduce related figures shown in Collettini et. al., (2022), under review. \n",
    "Let's get started!"
   ]
  },
  {
   "cell_type": "code",
   "execution_count": null,
   "metadata": {},
   "outputs": [],
   "source": []
  },
  {
   "cell_type": "code",
   "execution_count": null,
   "metadata": {},
   "outputs": [],
   "source": [
    "# import modules and setup \n",
    "# -------------------------------\n",
    "import numpy as np\n",
    "import datetime\n",
    "import pandas as pd\n",
    "from mpl_toolkits.mplot3d import Axes3D\n",
    "import matplotlib.pyplot as plt\n",
    "import cartopy.feature as cfeature\n",
    "import matplotlib.ticker as mticker\n",
    "import matplotlib.patches as patches\n",
    "from scipy.spatial.transform import Rotation as R"
   ]
  },
  {
   "cell_type": "markdown",
   "metadata": {},
   "source": [
    "Computation of McLilliefors are from \"Herrmann, M. and W. Marzocchi (2020). Mc-Lilliefors: A completeness magnitude that complies with the exponential-like Gutenberg-Richter relation. doiȷ 10.5281/zenodo.4162497.\""
   ]
  },
  {
   "cell_type": "code",
   "execution_count": null,
   "metadata": {},
   "outputs": [],
   "source": [
    "import sys\n",
    "import logging\n",
    "import pandas as pd\n",
    "import plotly.io as pio\n",
    "\n",
    "from mc_lilliefors import McLilliefors  # custom class\n",
    "# -- Setup plotly\n",
    "\n",
    "# Default plot type\n",
    "# pio.renderers.default = 'plotly_mimetype+notebook'  # interactive\n",
    "# pio.renderers.default = 'plotly_mimetype+notebook_connected'  # interactive with internet connection\n",
    "pio.renderers.default = 'png'  # static\n",
    "\n",
    "# Set plotly template\n",
    "# pio.templates.default = 'plotly'  # [default]\n",
    "pio.templates.default = 'simple_white'  # publication-friendly\n",
    "\n",
    "# -- Setup logger\n",
    "logger = logging.getLogger()\n",
    "c_handler = logging.StreamHandler(sys.stdout)  # avoid red colored cells by not logging to stderr\n",
    "logger.setLevel(logging.INFO)\n",
    "c_handler.setFormatter(logging.Formatter('%(message)s'))\n",
    "logger.handlers = [c_handler]"
   ]
  },
  {
   "cell_type": "code",
   "execution_count": null,
   "metadata": {},
   "outputs": [],
   "source": [
    "#from statsmodels.distributions.empirical_distribution import ECDF\n",
    "# pip install dc_stat_think\n",
    "import dc_stat_think as dcst"
   ]
  },
  {
   "cell_type": "code",
   "execution_count": null,
   "metadata": {},
   "outputs": [],
   "source": [
    "def compute_b_value(mags, mt,interval, perc=[2.5, 97.5], n_reps=None):\n",
    "    \"\"\"Compute the b-value and its confidence interval.\"\"\"\n",
    "    \n",
    "## This function returns the 1/b value given the selected catalogue and the minimum magnitude \n",
    "    \n",
    "    m = mags[mags >= mt]\n",
    "\n",
    "    # Compute b-value: b\n",
    "    b = ((np.mean(m) - (mt-interval/2)) * np.log(10) )\n",
    "    \n",
    "    # Draw bootstrap replicates\n",
    "    if n_reps is None:\n",
    "        return b\n",
    "    else:\n",
    "        m_bs_reps = dcst.draw_bs_reps(m, np.mean, size=n_reps)\n",
    "\n",
    "        # Compute b-value from replicates: b_bs_reps\n",
    "        b_bs_reps = ((m_bs_reps - (mt-interval/2)) * np.log(10))\n",
    "        \n",
    "        # Compute confidence interval: conf_int\n",
    "        conf_int = np.percentile(b_bs_reps, perc)\n",
    "    \n",
    "        return b, conf_int\n"
   ]
  },
  {
   "cell_type": "code",
   "execution_count": null,
   "metadata": {},
   "outputs": [],
   "source": [
    "import pyproj\n",
    "utm33 = pyproj.Proj(proj='utm',zone=33, ellps='WGS84', preserve_units=False)\n",
    "#utm33 = pyproj.Proj(\"+proj=utm +zone=33, +north +ellps=WGS84 +datum=WGS84 +units=m +no_defs\")"
   ]
  },
  {
   "cell_type": "code",
   "execution_count": null,
   "metadata": {},
   "outputs": [],
   "source": [
    "def distance_point_from_plane(x, y, z, normal, origin):\n",
    "    d = -normal[0]*origin[0]-normal[1]*origin[1]-normal[2]*origin[2]\n",
    "    dist = np.abs(normal[0]*x+normal[1]*y+normal[2]*z+d)\n",
    "    dist = dist/np.sqrt(normal[0]**2+normal[1]**2+normal[2]**2)\n",
    "    return dist"
   ]
  },
  {
   "cell_type": "markdown",
   "metadata": {},
   "source": [
    "### Download the Catalog "
   ]
  },
  {
   "cell_type": "markdown",
   "metadata": {},
   "source": [
    "The seismicity catalogue used in this work is published in Tan et al., 2021 and is available at the Zenodo dataset repository (doi 10.5281/zenodo.4662870)."
   ]
  },
  {
   "cell_type": "code",
   "execution_count": null,
   "metadata": {},
   "outputs": [],
   "source": [
    "# to run this cell donwload the Tan catalog, put in the same folder of this notebook and rename as Amatrice_Tanetal2021 \n",
    "am=pd.read_csv('Amatrice_Tanetal2021', delimiter='\\s+', header= 18)\n",
    "am.columns = [ \"year\",\"month\",\"day\",\"hour\",\"min\",\"secmsec\",\"lat\", \"lon\", \"depth\",\"EH1\",\"EH2\",\"AZ\",\"EZ\",\"Ml\",\"Mw\",\"Id\"]\n",
    "am =am.drop(['EH1','EH2','AZ','EZ'], axis = 1)"
   ]
  },
  {
   "cell_type": "code",
   "execution_count": null,
   "metadata": {},
   "outputs": [],
   "source": [
    "am"
   ]
  },
  {
   "cell_type": "code",
   "execution_count": null,
   "metadata": {},
   "outputs": [],
   "source": [
    "df = pd.DataFrame({'year': am['year'],\n",
    "                       'month': am['month'],\n",
    "                       'day': am['day'],'hour': am['hour'],\n",
    "                       'minute': am['min'], 'second':am['secmsec']})\n",
    "time=pd.to_datetime(df, format = '%d/%m/%y %H:%M:%S')\n",
    "#Convert argument to datetime\n",
    "am['time']=time\n"
   ]
  },
  {
   "cell_type": "code",
   "execution_count": null,
   "metadata": {},
   "outputs": [],
   "source": [
    "am=am.drop(['year', 'month','day','hour','min','secmsec'], axis=1)"
   ]
  },
  {
   "cell_type": "code",
   "execution_count": null,
   "metadata": {},
   "outputs": [],
   "source": [
    "#Set the interval of the available Mw values (take it info from the catalogue)\n",
    "interval=0.01"
   ]
  },
  {
   "cell_type": "code",
   "execution_count": null,
   "metadata": {},
   "outputs": [],
   "source": []
  },
  {
   "cell_type": "code",
   "execution_count": null,
   "metadata": {},
   "outputs": [],
   "source": [
    "%matplotlib inline\n",
    "fig=plt.figure (figsize=(15,5))\n",
    "plt.plot(am['time'],am['Mw'],'o')\n",
    "plt.ylabel('Mw',fontsize=24)\n",
    "plt.xlabel('time',fontsize=24)"
   ]
  },
  {
   "cell_type": "code",
   "execution_count": null,
   "metadata": {},
   "outputs": [],
   "source": [
    "# to utm33\n",
    "utmx_am,utmy_am=utm33(np.array(am['lon']),np.array(am['lat']))"
   ]
  },
  {
   "cell_type": "code",
   "execution_count": null,
   "metadata": {},
   "outputs": [],
   "source": [
    "largeeve=am[(am['Mw'] >= 5.)]\n",
    "largeeve= largeeve.reset_index(drop=True)\n",
    "largeeve"
   ]
  },
  {
   "cell_type": "code",
   "execution_count": null,
   "metadata": {},
   "outputs": [],
   "source": [
    "norcia_ipo=am[(am['Mw'] >= 6.)&(am['time'] >= '2016-10-30')]\n",
    "norcia_ipo"
   ]
  },
  {
   "cell_type": "code",
   "execution_count": null,
   "metadata": {},
   "outputs": [],
   "source": [
    "#Reference earthquake that is the center of the section Norcia 30 10 2016\n",
    "lon_ref=float(norcia_ipo['lon'])\n",
    "lat_ref=float(norcia_ipo['lat'])\n",
    "depth_ref=float(norcia_ipo['depth'] )\n",
    "\n",
    "utmx_ref,utmy_ref=utm33(lon_ref,lat_ref)\n",
    "mainev_ref=[utmx_ref/1000,utmy_ref/1000, -depth_ref ]\n",
    "mainev_ref=np.array(mainev_ref)"
   ]
  },
  {
   "cell_type": "markdown",
   "metadata": {},
   "source": [
    "### Mappa all dataset"
   ]
  },
  {
   "cell_type": "code",
   "execution_count": null,
   "metadata": {},
   "outputs": [],
   "source": [
    "%matplotlib inline\n",
    "whe_largeeve=np.where(am['Mw'] >= 1.5)\n",
    "\n",
    "fig = plt.figure(figsize=(10,10))\n",
    "ax = fig.add_subplot(111)\n",
    "ax.scatter(utmx_am[whe_largeeve]/1000,utmy_am[whe_largeeve]/1000, s=0.05,marker='o', c='#000080', alpha=.5, label='Tan et al., 2021')\n",
    "ax.scatter(mainev_ref[0], mainev_ref[1],s=100, c='r',marker='*', label='Norcia Mainshock')\n",
    "\n",
    "\n",
    "plt.legend(fontsize=11, markerscale=2)\n",
    "plt.xlabel('x (km)',fontsize=18)\n",
    "plt.ylabel('y (km)',fontsize=18)\n",
    "ax=plt.gca()\n",
    "ax.set_aspect('equal')\n",
    "ax.grid()"
   ]
  },
  {
   "cell_type": "markdown",
   "metadata": {},
   "source": [
    "## Dataset whole sequence without STAI"
   ]
  },
  {
   "cell_type": "markdown",
   "metadata": {},
   "source": [
    "The figure reported below is Figure 6 of the supplementary material of Herrmann et al., (Research Square, https://orcid.org/0000-0002-2342-1970). According to the Authors, this plot is useful to define the necessary “safety margin” to reduce the bias due to short-term aftershock incompleteness (STAI). According to this analysis, the Norcia mainshock has the strongest influence on STAI, and +2days have to be removed to avoid the influence of STAI on the b-values. For the other mainshocks the influence is limited at +0.8, +0.6 and +0.4 for Amatrice, Visso and Campotosto mainshocks, respectively."
   ]
  },
  {
   "cell_type": "markdown",
   "metadata": {},
   "source": [
    "<img src=\"WarnerSTAI.png\" >"
   ]
  },
  {
   "cell_type": "markdown",
   "metadata": {},
   "source": [
    "To compute the b-value for the seismicity \"on-fault\" and \"DhWS\" we have to select the period.In the paper we show the inferred b-value for the time period before Visso-Norcia and for the whole dataset. Please select PERIOD=0 for the whole dataset and PERIOD=1 for the seismicity before Visso-Norcia."
   ]
  },
  {
   "cell_type": "code",
   "execution_count": null,
   "metadata": {},
   "outputs": [],
   "source": [
    "#SELECT PERIOD:\n",
    "#BEFORE VISSO-NORCIA =1\n",
    "#WHOLE PERIOD =0\n",
    "PERIOD=0"
   ]
  },
  {
   "cell_type": "code",
   "execution_count": null,
   "metadata": {
    "scrolled": true
   },
   "outputs": [],
   "source": [
    "#EVENTS FOR THE WHOLE PERIOD OR BEFORE NORCIA ACCOUNTING FOR STAI from Herrmann et al, under review\n",
    "start_date0 = '2016-08-15 00:01 '\n",
    "end_date0 = '2016-08-24 01:36:34'#'2016-12-09 06:39' STAI 19,2 ore\n",
    "start_date1 = '2016-08-24 20:36 '\n",
    "end_date1 = '2016-10-26 19:18:10 '\n",
    "start_date2 = '2016-10-27 09:18:10 ' #STAI 14,4 hours\n",
    "end_date2 = '2016-10-30 06:40:19'\n",
    "start_date3 = '2016-11-01 06:40 ' #STAI 48 hours\n",
    "end_date3 = '2017-01-18 09:26'\n",
    "start_date4 = '2017-01-18 21:00 ' # 9,6 hours\n",
    "end_date4 = '2017-08-15 22:16'\n",
    "\n",
    "if PERIOD==0:\n",
    "    am_poM1 = am[((am['time'] >= start_date0) & (am[\"time\"] <= end_date0)) |((am['time'] >= start_date1) & (am[\"time\"] <= end_date1)) | ((am['time'] >= start_date2) & (am[\"time\"] <= end_date2)) | ((am['time'] >= start_date3) & (am[\"time\"] <= end_date3)) | ((am['time'] >= start_date4) & (am[\"time\"] <= end_date4))]\n",
    "    am_poM1= am_poM1.reset_index(drop=True)\n",
    "elif PERIOD==1:\n",
    "    am_poM1 = am[((am['time'] >= start_date0) & (am[\"time\"] <= end_date0)) |((am['time'] >= start_date1) & (am[\"time\"] <= end_date1)) ]\n",
    "    am_poM1= am_poM1.reset_index(drop=True)\n",
    "am_poM1"
   ]
  },
  {
   "cell_type": "code",
   "execution_count": null,
   "metadata": {},
   "outputs": [],
   "source": []
  },
  {
   "cell_type": "code",
   "execution_count": null,
   "metadata": {},
   "outputs": [],
   "source": [
    "am_poM1=am_poM1[(am_poM1['depth'] <= 50.0)]\n",
    "am_poM1= am_poM1.reset_index(drop=True)\n",
    "am_poM1"
   ]
  },
  {
   "cell_type": "code",
   "execution_count": null,
   "metadata": {},
   "outputs": [],
   "source": [
    "%matplotlib inline\n",
    "fig, ax = plt.subplots(figsize=(10,5))\n",
    "ax.plot(am_poM1['time'],am_poM1['Mw'],'o')"
   ]
  },
  {
   "cell_type": "code",
   "execution_count": null,
   "metadata": {},
   "outputs": [],
   "source": []
  },
  {
   "cell_type": "code",
   "execution_count": null,
   "metadata": {},
   "outputs": [],
   "source": [
    "#Define the vector normal to the plane where we want to plot the seismicity\n",
    "#strike_ref=155\n",
    "#section normal_tostrike=strike_ref-90   \n",
    "dip_angle=90\n",
    "normal_tostrike=155-90  #direction of the section to plot\n",
    "normal_ref=[np.sin(dip_angle*np.pi/180)*np.cos(normal_tostrike*np.pi/180),-np.sin(normal_tostrike*np.pi/180)*np.sin(dip_angle*np.pi/180),np.cos(dip_angle*np.pi/180)]\n",
    "normal_ref_vertical=[np.cos(normal_tostrike*np.pi/180),-np.sin(normal_tostrike*np.pi/180)]"
   ]
  },
  {
   "cell_type": "code",
   "execution_count": null,
   "metadata": {},
   "outputs": [],
   "source": [
    "#convert the geographical coordinates in utm.\n",
    "utmx_am_poM1,utmy_am_poM1=utm33(np.array(am_poM1['lon']),np.array(am_poM1['lat']))\n"
   ]
  },
  {
   "cell_type": "code",
   "execution_count": null,
   "metadata": {},
   "outputs": [],
   "source": [
    "\n",
    "#compute the distance from the selected plane\n",
    "distam_ref=distance_point_from_plane(utmx_am_poM1/1000,utmy_am_poM1/1000, -am_poM1['depth'], normal_ref, mainev_ref)\n",
    "\n",
    "#set the distance threshold from the plane \n",
    "x_along_strike=1 # km\n",
    "resultdist1m = np.where(distam_ref <x_along_strike)\n",
    "\n",
    "#X location along the section\n",
    "X_onsection1m=+(utmy_am_poM1[resultdist1m]/1000-mainev_ref[1])*normal_ref_vertical[0]-(utmx_am_poM1[resultdist1m]/1000-mainev_ref[0])*normal_ref_vertical[1]\n",
    "\n",
    "# Mainshock or selected event on section\n",
    "fm_onsection_ref=+(utmy_ref/1000-mainev_ref[1])*normal_ref_vertical[0]-(utmx_ref/1000-mainev_ref[0])*normal_ref_vertical[1]"
   ]
  },
  {
   "cell_type": "code",
   "execution_count": null,
   "metadata": {},
   "outputs": [],
   "source": [
    "%matplotlib inline\n",
    "#%matplotlib inline\n",
    "#project the depth along dip\n",
    "fig, ax = plt.subplots(nrows=1, ncols=1, figsize=(18, 10))\n",
    "\n",
    "ax.scatter(X_onsection1m,(-am_poM1['depth'].loc[resultdist1m])/np.sin(dip_angle*np.pi/180),c='k',s=10,marker='.',alpha=.2,label='x')\n",
    "ax.scatter(fm_onsection_ref, -depth_ref/np.sin(dip_angle*np.pi/180), marker='*', c='r',s=250, label='Mw 6.5')\n",
    "\n",
    "ax.set_ylim(-12,0)\n",
    "ax.set_xlim(-10,20)\n",
    "ax.set_title('distance along strike (km) +/- '+str(x_along_strike),fontsize=18)\n",
    "ax.set_aspect('equal', adjustable='box')\n",
    "ax.set_ylabel('along depth')\n",
    "ax.set_xlabel('along strike')\n",
    "fig.savefig(\"./figure/seismicity_section.pdf\", bbox_inches='tight')"
   ]
  },
  {
   "cell_type": "code",
   "execution_count": null,
   "metadata": {},
   "outputs": [],
   "source": []
  },
  {
   "cell_type": "code",
   "execution_count": null,
   "metadata": {
    "scrolled": true
   },
   "outputs": [],
   "source": [
    "#catalogue to use for the computation of M_lilliefors and b-value\n",
    "df = am_poM1.copy()\n"
   ]
  },
  {
   "cell_type": "code",
   "execution_count": null,
   "metadata": {},
   "outputs": [],
   "source": [
    "## Herrmann, M. and W. Marzocchi (2020). Mc-Lilliefors: A completeness magnitude that complies with the\n",
    "## exponential-like Gutenberg-Richter relation. doiȷ 10.5281/zenodo.4162497.\n",
    "\n",
    "# Reload class (e.g., to consider modifications in the code)\n",
    "import importlib\n",
    "import mc_lilliefors\n",
    "importlib.reload(mc_lilliefors)\n",
    "from mc_lilliefors import McLilliefors\n",
    "\n",
    "lill = McLilliefors(\n",
    "    df.Mw,\n",
    "    # signif_lev=0.1  # [default: 0.1]\n",
    ")\n",
    "\n",
    "lill.calc_testdistr_mcutoff(\n",
    "    n_repeats=50,  # number of iterations for the random noise\n",
    "    Mstart=1.0,  # lowest magnitude for which to perform the test\n",
    "    # log=False,  # whether to show anythe progress bar\n",
    ")\n",
    "\n"
   ]
  },
  {
   "cell_type": "code",
   "execution_count": null,
   "metadata": {},
   "outputs": [],
   "source": [
    "## Herrmann, M. and W. Marzocchi (2020). Mc-Lilliefors: A completeness magnitude that complies with the\n",
    "## exponential-like Gutenberg-Richter relation. doiȷ 10.5281/zenodo.4162497.\n",
    "\n",
    "fig = lill.plot_testdist_expon_mcutoff()\n",
    "fig.layout.update(\n",
    "    xaxis_range=(1, 6.0),\n",
    ")\n",
    "\n",
    "fig.show(width=fig.layout.width, height=fig.layout.height)"
   ]
  },
  {
   "cell_type": "code",
   "execution_count": null,
   "metadata": {},
   "outputs": [],
   "source": [
    "Mc = lill.estimate_Mc_expon_test()\n",
    "\n",
    "print(\"Mc-Lilliefors: %s\\n   --> number of events ≥ Mc-Lilliefors: %d\" % (Mc, lill.estimates['n_compl']))"
   ]
  },
  {
   "cell_type": "code",
   "execution_count": null,
   "metadata": {},
   "outputs": [],
   "source": [
    "\n",
    "Mc_all=Mc"
   ]
  },
  {
   "cell_type": "code",
   "execution_count": null,
   "metadata": {},
   "outputs": [],
   "source": [
    "catalogue=am_poM1.copy()"
   ]
  },
  {
   "cell_type": "code",
   "execution_count": null,
   "metadata": {},
   "outputs": [],
   "source": [
    "\n",
    "# Magnitude bins\n",
    "min_mag=np.min(catalogue['Mw']) # estremi per il plot\n",
    "max_mag=np.max(catalogue['Mw'])+interval #estremi per il plot\n",
    "min_mag_bin=Mc\n",
    "max_mag_bin=np.max(catalogue['Mw'])+interval\n",
    "\n",
    "bins_all = np.arange(min_mag_bin, max_mag_bin, interval)\n",
    "# Magnitude bins for plotting - we will re-arrange bins later\n",
    "plot_bins_all = np.arange(min_mag, max_mag, interval)\n",
    "\n",
    "###########################################################################\n",
    "# Generate distribution\n",
    "###########################################################################\n",
    "# Generate histogram\n",
    "hist = np.histogram(catalogue['Mw'],bins=bins_all)\n",
    "hist_plot = np.histogram(catalogue['Mw'],bins=plot_bins_all)\n",
    "\n",
    "# Reverse array order\n",
    "hist = hist[0][::-1]\n",
    "bins_all = bins_all[::-1]\n",
    "#plot \n",
    "hist_plot = hist_plot[0][::-1]\n",
    "plot_bins_all = plot_bins_all[::-1]\n",
    "\n",
    "# Calculate cumulative sum\n",
    "cum_hist = hist.cumsum()\n",
    "# Ensure bins have the same length has the cumulative histogram.\n",
    "# Remove the upper bound for the highest interval.\n",
    "bins_all = bins_all[1:]\n",
    "\n",
    "\n",
    "cum_hist_plot_all = hist_plot.cumsum()\n",
    "plot_bins_all = plot_bins_all[1:]\n",
    "wherecum=np.where(cum_hist>0)\n",
    "log_cum_sum = np.log10(cum_hist[wherecum])"
   ]
  },
  {
   "cell_type": "code",
   "execution_count": null,
   "metadata": {},
   "outputs": [],
   "source": [
    "%matplotlib inline\n",
    "# Compute b-value and confidence interval\n",
    "#b, conf_int = b_value(mags, mt, perc=[2.5, 97.5], n_reps=10000)\n",
    "mags=catalogue['Mw']\n",
    "mt=Mc\n",
    "compute_b_value_mle, conf_int = compute_b_value(mags, mt,interval, perc=[2.5, 97.5], n_reps=10000)\n",
    "# Generate samples to for theoretical ECDF\n",
    "m_theor = np.random.exponential(compute_b_value_mle/np.log(10), size=100000) + mt \n",
    "# Plot the theoretical CDF\n",
    "_ = plt.plot(*dcst.ecdf(m_theor))\n",
    "\n",
    "# Plot the ECDF (slicing mags >= mt)\n",
    "_ = plt.plot(*dcst.ecdf(mags[mags >= mt]), marker='.', linestyle='none')\n",
    "\n",
    "# Pretty up and show the plot\n",
    "_ = plt.xlabel('magnitude')\n",
    "_ = plt.ylabel('ECDF')\n",
    "#_ = plt.xlim(2.8, 6.2)\n",
    "plt.show()\n",
    "\n",
    "# Report the results\n",
    "print(\"\"\"\n",
    "b-value: {0:.5f}\n",
    "95% conf int: [{1:.5f}, {2:.5f}]\"\"\".format(1/compute_b_value_mle, *conf_int**(-1)))\n",
    "compute_b_value_mle=1/compute_b_value_mle"
   ]
  },
  {
   "cell_type": "code",
   "execution_count": null,
   "metadata": {},
   "outputs": [],
   "source": [
    "\n",
    "b_all=compute_b_value_mle"
   ]
  },
  {
   "cell_type": "code",
   "execution_count": null,
   "metadata": {},
   "outputs": [],
   "source": [
    "num_eq=len(catalogue['Mw'])\n",
    "## Get annual rate\n",
    "cum_annual_rate = cum_hist\n",
    "\n",
    "new_cum_annual_rate_all = []\n",
    "for i in cum_annual_rate:\n",
    "    new_cum_annual_rate_all.append(i+1e-20)"
   ]
  },
  {
   "cell_type": "code",
   "execution_count": null,
   "metadata": {
    "scrolled": true
   },
   "outputs": [],
   "source": [
    "# Generate data to plot maximum likelihood linear curve\n",
    "\n",
    "num_eve=len(catalogue['Mw'].loc[np.where(catalogue['Mw']>min_mag_bin)])\n",
    "mle_fit = -1.0 * compute_b_value_mle * bins_all + 1.0 * compute_b_value_mle * min_mag_bin + np.log10(num_eve)\n",
    "log_mle_fit = []\n",
    "for value in mle_fit:\n",
    "    log_mle_fit.append(np.power(10,value))\n",
    "    \n",
    "# Compare b-value of 1\n",
    "fit_data = -1.0 * bins_all + min_mag_bin + np.log10(num_eve)\n",
    "log_fit_data = []\n",
    "for value in fit_data:\n",
    "    log_fit_data.append(np.power(10,value))\n",
    "\n",
    "print('compute_b_value_mle=',compute_b_value_mle)"
   ]
  },
  {
   "cell_type": "code",
   "execution_count": null,
   "metadata": {},
   "outputs": [],
   "source": [
    "b_all=compute_b_value_mle\n",
    "log_mle_fit_all=log_mle_fit.copy()"
   ]
  },
  {
   "cell_type": "code",
   "execution_count": null,
   "metadata": {},
   "outputs": [],
   "source": []
  },
  {
   "cell_type": "code",
   "execution_count": null,
   "metadata": {},
   "outputs": [],
   "source": [
    "# Plotting\n",
    "# Plotting\n",
    "wherecumplot_all=np.where(cum_hist_plot_all>0)\n",
    "fig, ax = plt.subplots(figsize=(15,8))\n",
    "ax.plot(plot_bins_all[wherecumplot_all],cum_hist_plot_all[wherecumplot_all],'xr',label = 'All events of selected period')\n",
    "ax.scatter(bins_all, new_cum_annual_rate_all, label = 'Events with M>M_lilliefors')\n",
    "\n",
    "ax.plot(bins_all, log_mle_fit, c = 'b', label = 'bvalue_MLE= %f'%b_all)\n",
    "ax.plot(bins_all, log_fit_data, c = 'k',linestyle='--', label = 'b=1')\n",
    "\n",
    "#ax.plot(bins, ls_fit2, c = 'k')\n",
    "ax.set_yscale('log')\n",
    "ax.legend(fontsize=24)\n",
    "#ax.set_ylim([min(new_cum_annual_rate) * 0.1, max(new_cum_annual_rate) * 10.])\n",
    "ax.set_ylim(1e-2, max(new_cum_annual_rate_all) * 100.)\n",
    "ax.set_xlim([min_mag - 2.5, max_mag + 0.5])\n",
    "ax.set_ylabel('Number events', fontsize=20)\n",
    "ax.set_xlabel('Magnitude',fontsize=20)\n",
    "ax.xaxis.set_tick_params(labelsize=20)\n",
    "ax.yaxis.set_tick_params(labelsize=20)\n",
    "plt.show()\n"
   ]
  },
  {
   "cell_type": "code",
   "execution_count": null,
   "metadata": {},
   "outputs": [],
   "source": []
  },
  {
   "cell_type": "markdown",
   "metadata": {},
   "source": [
    "# On Fault"
   ]
  },
  {
   "cell_type": "code",
   "execution_count": null,
   "metadata": {},
   "outputs": [],
   "source": [
    "#strike_ref=150\n",
    "#normal_tostrike=strike_ref-90  \n",
    "dip_angle=40\n",
    "normal_tostrike=155   #direction of the section to plot\n",
    "#normal_ref=[np.sin(dip_angle*np.pi/180)*np.cos(normal_tostrike*np.pi/180),-np.sin(normal_tostrike*np.pi/180)*np.sin(dip_angle*np.pi/180),np.cos(dip_angle*np.pi/180)]\n",
    "normal_ref=[np.sin(dip_angle*np.pi/180)*np.cos(normal_tostrike*np.pi/180),-np.sin(normal_tostrike*np.pi/180)*np.sin(dip_angle*np.pi/180),np.cos(dip_angle*np.pi/180)]\n",
    "normal_ref_vertical=[np.cos(normal_tostrike*np.pi/180),-np.sin(normal_tostrike*np.pi/180)]\n"
   ]
  },
  {
   "cell_type": "markdown",
   "metadata": {},
   "source": [
    "We use the Rotation module to retrieve the normal vector to the selected plane"
   ]
  },
  {
   "cell_type": "code",
   "execution_count": null,
   "metadata": {},
   "outputs": [],
   "source": [
    "#dip_angle=90-angle_dip\n",
    "#strike_angle=-angle_strike+90\n",
    "dipangle=90-40\n",
    "strikeangle=-155+90\n",
    "\n",
    "\n",
    "#vx1 = R.from_euler('x', 0, degrees=True) #first rotation around X; for vertical section  dip is ZERO \n",
    "vx1 = R.from_euler('x', dipangle, degrees=True) #first rotation around X; for section with dip 40 we have to use 90-dip \n",
    "vx2 = R.from_euler('z', strikeangle, degrees=True) #rotation around Z for strike\n"
   ]
  },
  {
   "cell_type": "code",
   "execution_count": null,
   "metadata": {},
   "outputs": [],
   "source": [
    "dippe=np.array([0,0,-1])\n",
    "dippe_rotated2=vx1.apply(dippe)\n",
    "dippe_rotated1=vx2.apply(dippe_rotated2)\n"
   ]
  },
  {
   "cell_type": "code",
   "execution_count": null,
   "metadata": {},
   "outputs": [],
   "source": [
    "strikke=np.array([1,0,0])\n",
    "strikke_rotated2=vx1.apply((strikke))\n",
    "strikke_rotated1=vx2.apply((strikke_rotated2))\n"
   ]
  },
  {
   "cell_type": "code",
   "execution_count": null,
   "metadata": {},
   "outputs": [],
   "source": [
    "\n",
    "ppx=strikke_rotated1\n",
    "ppy=dippe_rotated1\n"
   ]
  },
  {
   "cell_type": "code",
   "execution_count": null,
   "metadata": {},
   "outputs": [],
   "source": [
    "#UTM33\n",
    "utmx_am_poM1,utmy_am_poM1=utm33(np.array(am_poM1['lon']),np.array(am_poM1['lat']))   # 1 day pre M 6.5\n",
    "\n",
    "#distance reference point\n",
    "distpoM1_ref=distance_point_from_plane(utmx_am_poM1/1000,utmy_am_poM1/1000, -am_poM1['depth'], normal_ref, mainev_ref)\n",
    "\n",
    "# selection distance < x\n",
    "resultdist1poM1 = np.where(distpoM1_ref <0.5)\n",
    "\n",
    "vettore_dist=np.array([(utmx_am_poM1[resultdist1poM1]/1000-mainev_ref[0]),(utmy_am_poM1[resultdist1poM1]/1000-mainev_ref[1]),(+am_poM1['depth'].loc[resultdist1poM1]+mainev_ref[2])])\n",
    "\n",
    "tot_dist=np.array(np.sqrt((utmx_am_poM1[resultdist1poM1]/1000-mainev_ref[0])**2+(utmy_am_poM1[resultdist1poM1]/1000-mainev_ref[1])**2+(-am_poM1['depth'].loc[resultdist1poM1]-mainev_ref[2])**2))\n",
    "\n",
    "dist_project=np.array((np.sqrt(tot_dist**2-(distpoM1_ref.loc[resultdist1poM1])**2)))\n"
   ]
  },
  {
   "cell_type": "code",
   "execution_count": null,
   "metadata": {},
   "outputs": [],
   "source": [
    "resultdist1poM1"
   ]
  },
  {
   "cell_type": "code",
   "execution_count": null,
   "metadata": {},
   "outputs": [],
   "source": [
    "# X and Y location on the selected section plane  \n",
    "X_onsection1poM1=np.empty([0])\n",
    "Y_onsection1poM1=np.empty([0])\n",
    "for i in range(len(vettore_dist[1,:])):\n",
    "    rec_rotX=np.dot(ppx,vettore_dist[:,i])\n",
    "    rec_rotY=np.dot(ppy,vettore_dist[:,i])\n",
    "    #print(rec_rot.shape)\n",
    "    #print(rec_rot)\n",
    "    X_onsection1poM1=np.append(X_onsection1poM1, [rec_rotX], axis=0)\n",
    "    Y_onsection1poM1=np.append(Y_onsection1poM1, [rec_rotY], axis=0)"
   ]
  },
  {
   "cell_type": "code",
   "execution_count": null,
   "metadata": {},
   "outputs": [],
   "source": []
  },
  {
   "cell_type": "code",
   "execution_count": null,
   "metadata": {},
   "outputs": [],
   "source": [
    "%matplotlib inline\n",
    "dip_angle=40\n",
    "fig, ax = plt.subplots(nrows=1, ncols=1, figsize=(18, 10))\n",
    "\n",
    "##proiezione along distance - perpendicular to the fault plane. \n",
    "ax.scatter(X_onsection1poM1,Y_onsection1poM1-depth_ref/np.sin(dip_angle*np.pi/180),c='b',s=0.2,marker='.',alpha=.9,label='x')\n",
    "ax.scatter(0, 0-depth_ref/np.sin(dip_angle*np.pi/180), marker='*', c='r',s=250, label='Mw 6.5')\n",
    "\n",
    "ax.set_ylabel('along dip',fontsize=20)\n",
    "ax.set_xlabel('along strike',fontsize=20)\n",
    "ax.set_ylim(-15,0)\n",
    "ax.set_xlim(-20,40)\n",
    "ax.set_aspect('equal', adjustable='box')\n"
   ]
  },
  {
   "cell_type": "code",
   "execution_count": null,
   "metadata": {},
   "outputs": [],
   "source": [
    "#create catalog with events having a distance < 0.5 km from the fault plane \n",
    "onfault_eve=am_poM1.copy()\n",
    "onfault_eve=onfault_eve.loc[resultdist1poM1]\n",
    "onfault_eve= onfault_eve.reset_index(drop=True)"
   ]
  },
  {
   "cell_type": "code",
   "execution_count": null,
   "metadata": {},
   "outputs": [],
   "source": [
    "onfault_eve"
   ]
  },
  {
   "cell_type": "code",
   "execution_count": null,
   "metadata": {},
   "outputs": [],
   "source": [
    "%matplotlib inline\n",
    "fig, ax = plt.subplots(figsize=(10,5))\n",
    "ax.plot(onfault_eve['time'],onfault_eve['Mw'],'o')"
   ]
  },
  {
   "cell_type": "code",
   "execution_count": null,
   "metadata": {},
   "outputs": [],
   "source": [
    "utmx_onf,utmy_onf=utm33(np.array(onfault_eve['lon']),np.array(onfault_eve['lat']))   # 1 day pre M 6.5"
   ]
  },
  {
   "cell_type": "code",
   "execution_count": null,
   "metadata": {},
   "outputs": [],
   "source": [
    "dip_angle=40\n",
    "#where_onf = (X_onsection_onf> -10) &(X_onsection_onf< 10)&(onfault_eve['depth']<np.abs(mainev_ref[2]))&(onfault_eve['depth']>+2)\n",
    "#where_onf = (X_onsection_onf> -5) &(X_onsection_onf< 5)&(onfault_eve['depth']<np.abs(mainev_ref[2]-0.0))&(onfault_eve['depth']>+2.)\n",
    "where_onf = (X_onsection1poM1> -5.) &(X_onsection1poM1< 5.)&((Y_onsection1poM1-depth_ref/np.sin(dip_angle*np.pi/180))>=-(+depth_ref)/np.sin(dip_angle*np.pi/180))&((Y_onsection1poM1-depth_ref/np.sin(dip_angle*np.pi/180))<-2.2/np.sin(40*np.pi/180))\n"
   ]
  },
  {
   "cell_type": "code",
   "execution_count": null,
   "metadata": {},
   "outputs": [],
   "source": [
    "onfault_eve[where_onf]"
   ]
  },
  {
   "cell_type": "code",
   "execution_count": null,
   "metadata": {},
   "outputs": [],
   "source": []
  },
  {
   "cell_type": "code",
   "execution_count": null,
   "metadata": {},
   "outputs": [],
   "source": [
    "%matplotlib inline\n",
    "fig, ax = plt.subplots()\n",
    "onfault_eve['Mw'][where_onf].plot.hist(ax=ax, bins=50)#, bottom=1)"
   ]
  },
  {
   "cell_type": "code",
   "execution_count": null,
   "metadata": {},
   "outputs": [],
   "source": [
    "%matplotlib inline\n",
    "from mpl_toolkits.mplot3d import Axes3D  \n",
    "\n",
    "\n",
    "fig = plt.figure(figsize=(10,10))\n",
    "ax = fig.add_subplot(111, projection='3d')\n",
    "ax.view_init(0, 313)\n",
    "ax.scatter(utmx_onf[where_onf]/1000, utmy_onf[where_onf]/1000,-onfault_eve['depth'].loc[where_onf], c='k',marker='.')\n",
    "ax.scatter(utmx_ref/1000,utmy_ref/1000,-depth_ref,marker='*',c='r',s=100)"
   ]
  },
  {
   "cell_type": "code",
   "execution_count": null,
   "metadata": {},
   "outputs": [],
   "source": [
    "close_on=onfault_eve[where_onf]\n",
    "close_on= close_on.reset_index(drop=True)\n",
    "close_on\n",
    "\n"
   ]
  },
  {
   "cell_type": "code",
   "execution_count": null,
   "metadata": {},
   "outputs": [],
   "source": [
    "%matplotlib inline\n",
    "fig, ax = plt.subplots(figsize=(10,5))\n",
    "ax.plot(close_on['time'],close_on['Mw'],'o')"
   ]
  },
  {
   "cell_type": "code",
   "execution_count": null,
   "metadata": {},
   "outputs": [],
   "source": [
    "utmx_close,utmy_close=utm33(np.array(close_on['lon']),np.array(close_on['lat']))   # 1 day pre M 6.5\n",
    "X_onsection_close_on=+(utmy_close/1000-mainev_ref[1])*normal_ref_vertical[0]-(utmx_close/1000-mainev_ref[0])*normal_ref_vertical[1]"
   ]
  },
  {
   "cell_type": "code",
   "execution_count": null,
   "metadata": {},
   "outputs": [],
   "source": [
    "%matplotlib inline\n",
    "fig=plt.figure(figsize=(14,5))\n",
    "plt.plot(am['time'],am['Mw'],'kx')\n",
    "plt.plot(onfault_eve['time'],onfault_eve['Mw'],'o')\n",
    "plt.plot(close_on['time'],close_on['Mw'],'ro')"
   ]
  },
  {
   "cell_type": "code",
   "execution_count": null,
   "metadata": {},
   "outputs": [],
   "source": [
    "#strike_ref=150\n",
    "#normal_tostrike=strike_ref-90   \n",
    "dip_angle=90\n",
    "normal_tostrike=155-90   #direction of the section to plot\n",
    "normal_ref=[np.sin(dip_angle*np.pi/180)*np.cos(normal_tostrike*np.pi/180),-np.sin(normal_tostrike*np.pi/180)*np.sin(dip_angle*np.pi/180),np.cos(dip_angle*np.pi/180)]\n",
    "normal_ref_vertical=[np.cos(normal_tostrike*np.pi/180),-np.sin(normal_tostrike*np.pi/180)]"
   ]
  },
  {
   "cell_type": "code",
   "execution_count": null,
   "metadata": {},
   "outputs": [],
   "source": [
    "#distance reference point\n",
    "dist_ref=distance_point_from_plane(utmx_close/1000,utmy_close/1000, -close_on['depth'], normal_ref, mainev_ref)\n",
    "\n",
    "# X on cross section \n",
    "X_on=+(utmy_close/1000-mainev_ref[1])*normal_ref_vertical[0]-(utmx_close/1000-mainev_ref[0])*normal_ref_vertical[1]\n"
   ]
  },
  {
   "cell_type": "code",
   "execution_count": null,
   "metadata": {},
   "outputs": [],
   "source": [
    "%matplotlib inline\n",
    "fig, ax = plt.subplots(nrows=1, ncols=1, figsize=(10, 7))\n",
    "ax.scatter(X_onsection1m,(-am_poM1['depth'].loc[resultdist1m])/np.sin(dip_angle*np.pi/180),c='k',s=1,marker='.',alpha=.2,label='x')\n",
    "\n",
    "#\n",
    "ax.scatter(X_on,-close_on['depth']/np.sin(dip_angle*np.pi/180),c='b',s=1,marker='.',alpha=0.2)\n",
    "ax.scatter(fm_onsection_ref, -depth_ref/np.sin(dip_angle*np.pi/180), marker='*', c='c',s=250, label='Mw 6.5')\n",
    "\n",
    "ax.set_ylim(-10,0)\n",
    "ax.set_xlim(-5,15)\n",
    "ax.set_aspect('equal', adjustable='box')"
   ]
  },
  {
   "cell_type": "code",
   "execution_count": null,
   "metadata": {},
   "outputs": [],
   "source": []
  },
  {
   "cell_type": "code",
   "execution_count": null,
   "metadata": {},
   "outputs": [],
   "source": []
  },
  {
   "cell_type": "code",
   "execution_count": null,
   "metadata": {},
   "outputs": [],
   "source": [
    "#catalogue to use\n",
    "df = close_on.copy()\n",
    "df"
   ]
  },
  {
   "cell_type": "code",
   "execution_count": null,
   "metadata": {},
   "outputs": [],
   "source": [
    "# Reload class (e.g., to consider modifications in the code)\n",
    "import importlib\n",
    "import mc_lilliefors\n",
    "importlib.reload(mc_lilliefors)\n",
    "from mc_lilliefors import McLilliefors\n",
    "\n",
    "lill = McLilliefors(\n",
    "    df.Mw,\n",
    "    # signif_lev=0.1  # [default: 0.1]\n",
    ")\n",
    "\n",
    "lill.calc_testdistr_mcutoff(\n",
    "    n_repeats=50,  # number of iterations for the random noise\n",
    "    Mstart=1.0,  # lowest magnitude for which to perform the test\n",
    "    # log=False,  # whether to show anythe progress bar\n",
    ")\n",
    "\n"
   ]
  },
  {
   "cell_type": "code",
   "execution_count": null,
   "metadata": {},
   "outputs": [],
   "source": [
    "fig = lill.plot_testdist_expon_mcutoff()\n",
    "fig.layout.update(\n",
    "    xaxis_range=(1, 6.0),\n",
    ")\n",
    "\n",
    "fig.show(width=fig.layout.width, height=fig.layout.height)"
   ]
  },
  {
   "cell_type": "code",
   "execution_count": null,
   "metadata": {},
   "outputs": [],
   "source": [
    "Mc = lill.estimate_Mc_expon_test()\n",
    "\n",
    "print(\"Mc-Lilliefors: %s\\n   --> number of events ≥ Mc-Lilliefors: %d\" % (Mc, lill.estimates['n_compl']))"
   ]
  },
  {
   "cell_type": "code",
   "execution_count": null,
   "metadata": {},
   "outputs": [],
   "source": [
    "Mc_on=Mc"
   ]
  },
  {
   "cell_type": "code",
   "execution_count": null,
   "metadata": {},
   "outputs": [],
   "source": []
  },
  {
   "cell_type": "code",
   "execution_count": null,
   "metadata": {},
   "outputs": [],
   "source": [
    "catalogue=close_on.copy()\n",
    "magnitudes=catalogue['Mw']\n"
   ]
  },
  {
   "cell_type": "code",
   "execution_count": null,
   "metadata": {},
   "outputs": [],
   "source": [
    "# Magnitude bins\n",
    "\n",
    "min_mag=np.min(catalogue['Mw']) # estremi per il plot\n",
    "max_mag=np.max(catalogue['Mw'])+interval #estremi per il plot\n",
    "min_mag_bin=Mc\n",
    "max_mag_bin=np.max(catalogue['Mw'])+interval\n",
    "\n",
    "bins = np.arange(min_mag_bin, max_mag_bin, interval)\n",
    "# Magnitude bins for plotting - we will re-arrange bins later\n",
    "plot_bins = np.arange(min_mag, max_mag, interval)\n",
    "\n",
    "wwww=np.where(catalogue['Mw']>min_mag_bin)\n",
    "plt.hist(catalogue['Mw'].loc[wwww], bins, alpha = 0.5, label='a')\n",
    "plt.hist(catalogue['Mw'], plot_bins, alpha = 0.5, label='b')\n",
    "###########################################################################\n",
    "# Generate distribution\n",
    "###########################################################################\n",
    "# Generate histogram\n",
    "hist = np.histogram(catalogue['Mw'],bins=bins)\n",
    "hist_plot = np.histogram(catalogue['Mw'],bins=plot_bins)\n",
    "\n",
    "# Reverse array order\n",
    "hist = hist[0][::-1]\n",
    "bins = bins[::-1]\n",
    "#plot \n",
    "hist_plot = hist_plot[0][::-1]\n",
    "plot_bins = plot_bins[::-1]\n",
    "\n",
    "# Calculate cumulative sum\n",
    "cum_hist = hist.cumsum()\n",
    "# Ensure bins have the same length has the cumulative histogram.\n",
    "# Remove the upper bound for the highest interval.\n",
    "bins = bins[1:]\n",
    "\n",
    "\n",
    "cum_hist_plot = hist_plot.cumsum()\n",
    "plot_bins = plot_bins[1:]\n",
    "wherecum=np.where(cum_hist>0)\n",
    "#log_cum_sum = np.log10(cum_hist[2::])\n",
    "log_cum_sum = np.log10(cum_hist[wherecum])\n"
   ]
  },
  {
   "cell_type": "code",
   "execution_count": null,
   "metadata": {},
   "outputs": [],
   "source": [
    "%matplotlib inline\n",
    "mags=catalogue['Mw']\n",
    "mt=Mc\n",
    "compute_b_value_mle, conf_int = compute_b_value(mags, mt,interval, perc=[2.5, 97.5], n_reps=10000)\n",
    "# Generate samples to for theoretical ECDF\n",
    "m_theor = np.random.exponential(compute_b_value_mle/np.log(10), size=100000) + mt \n",
    "# Plot the theoretical CDF\n",
    "_ = plt.plot(*dcst.ecdf(m_theor))\n",
    "\n",
    "# Plot the ECDF (slicing mags >= mt)\n",
    "_ = plt.plot(*dcst.ecdf(mags[mags >= mt]), marker='.', linestyle='none')\n",
    "\n",
    "# Pretty up and show the plot\n",
    "_ = plt.xlabel('magnitude')\n",
    "_ = plt.ylabel('ECDF')\n",
    "#_ = plt.xlim(2.8, 6.2)\n",
    "plt.show()\n",
    "\n",
    "# Report the results\n",
    "print(\"\"\"\n",
    "b-value: {0:.5f}\n",
    "95% conf int: [{1:.5f}, {2:.5f}]\"\"\".format(1/compute_b_value_mle, *conf_int**(-1)))\n",
    "compute_b_value_mle=1/compute_b_value_mle\n",
    "\n",
    "\n",
    "\n",
    "\n"
   ]
  },
  {
   "cell_type": "code",
   "execution_count": null,
   "metadata": {},
   "outputs": [],
   "source": [
    "# b- value for the on-fault seismicity\n",
    "b_on=compute_b_value_mle"
   ]
  },
  {
   "cell_type": "code",
   "execution_count": null,
   "metadata": {},
   "outputs": [],
   "source": [
    "num_eq=len(magnitudes)\n",
    "annual_num_eq = num_eq\n",
    "## Get annual rate\n",
    "cum_annual_rate = cum_hist\n",
    "\n",
    "new_cum_annual_rate = []\n",
    "for i in cum_annual_rate:\n",
    "    new_cum_annual_rate.append(i+1e-20)"
   ]
  },
  {
   "cell_type": "code",
   "execution_count": null,
   "metadata": {},
   "outputs": [],
   "source": [
    "   \n",
    "# Generate data to plot maximum likelihood linear curve\n",
    "\n",
    "num_eve=len(catalogue['Mw'].loc[np.where(catalogue['Mw']>min_mag_bin)])\n",
    "mle_fit = -1.0 * compute_b_value_mle * bins + 1.0 * compute_b_value_mle * min_mag_bin + np.log10(num_eve)\n",
    "log_mle_fit = []\n",
    "for value in mle_fit:\n",
    "    log_mle_fit.append(np.power(10,value))\n",
    "    \n",
    "# Compare b-value of 1\n",
    "fit_data = -1.0 * bins + min_mag_bin + np.log10(num_eve)\n",
    "log_fit_data = []\n",
    "for value in fit_data:\n",
    "    log_fit_data.append(np.power(10,value))\n",
    "\n",
    "print(log_cum_sum[-1],np.log10(num_eve))\n",
    "print('compute_b_value_mle=',compute_b_value_mle)"
   ]
  },
  {
   "cell_type": "code",
   "execution_count": null,
   "metadata": {},
   "outputs": [],
   "source": [
    "bin_on=bins.copy()\n",
    "log_mle_fit_on=log_mle_fit.copy()"
   ]
  },
  {
   "cell_type": "code",
   "execution_count": null,
   "metadata": {},
   "outputs": [],
   "source": [
    "wherecumplot=np.where(cum_hist_plot>0)\n",
    "%matplotlib inline\n",
    "# Plotting\n",
    "fig, ax = plt.subplots(figsize=(15,8))\n",
    "ax.plot(plot_bins[wherecumplot],cum_hist_plot[wherecumplot],'xr',label = 'On-fault events of selected period')\n",
    "ax.scatter(bins, new_cum_annual_rate, label = 'On-fault events with M>M_lilliefors')\n",
    "\n",
    "ax.plot(bins, log_mle_fit, c = 'b', label = 'bvalue_MLE= %.2f'%b_on)\n",
    "ax.plot(bins, log_fit_data, c = 'k',linestyle='--', label = 'b=1')\n",
    "\n",
    "\n",
    "\n",
    "#ax.plot(bins, ls_fit2, c = 'k')\n",
    "ax.set_yscale('log')\n",
    "ax.legend(fontsize=24)\n",
    "#ax.set_ylim([min(new_cum_annual_rate) * 0.1, max(new_cum_annual_rate) * 10.])\n",
    "ax.set_ylim(1e-2, max(new_cum_annual_rate) * 100.)\n",
    "ax.set_xlim([min_mag - 1, max_mag + 0.5])\n",
    "ax.set_ylabel('Number events',fontsize=20)\n",
    "ax.set_xlabel('Magnitude',fontsize=20)\n",
    "ax.xaxis.set_tick_params(labelsize=20)\n",
    "ax.yaxis.set_tick_params(labelsize=20)\n",
    "plt.show()\n",
    "\n",
    "\n"
   ]
  },
  {
   "cell_type": "code",
   "execution_count": null,
   "metadata": {},
   "outputs": [],
   "source": []
  },
  {
   "cell_type": "markdown",
   "metadata": {},
   "source": [
    "## DHwS (distributed down-dip hangingwall seismicity)"
   ]
  },
  {
   "cell_type": "code",
   "execution_count": null,
   "metadata": {},
   "outputs": [],
   "source": []
  },
  {
   "cell_type": "code",
   "execution_count": null,
   "metadata": {},
   "outputs": [],
   "source": [
    "\n",
    "#Reference earthquake that is the center of the section Norcia 30 10 2016 abbassato a 8.5 depth\n",
    "lon_ref=float(norcia_ipo['lon'])\n",
    "lat_ref=float(norcia_ipo['lat'])\n",
    "depth_ref_off=8.4 #era 8.3 con 20 gradi  #era 8.7 con selezione collettini e dip 30\n",
    "\n",
    "utmx_refoff,utmy_refoff=utm33(lon_ref,lat_ref)\n",
    "mainev_ref_off=[utmx_refoff/1000,utmy_refoff/1000, -depth_ref_off ]\n",
    "mainev_ref_off=np.array(mainev_ref_off)\n",
    "#print(mainev_ref)"
   ]
  },
  {
   "cell_type": "code",
   "execution_count": null,
   "metadata": {},
   "outputs": [],
   "source": [
    "#strike_ref=155\n",
    "#normal_tostrike=strike_ref-90  \n",
    "dip_angle=20# 30 selezione collettini \n",
    "normal_tostrike=155+180   #direction of the section to plot\n",
    "#normal_ref=[np.sin(dip_angle*np.pi/180)*np.cos(normal_tostrike*np.pi/180),-np.sin(normal_tostrike*np.pi/180)*np.sin(dip_angle*np.pi/180),np.cos(dip_angle*np.pi/180)]\n",
    "normal_ref=[np.sin(dip_angle*np.pi/180)*np.cos(normal_tostrike*np.pi/180),-np.sin(normal_tostrike*np.pi/180)*np.sin(dip_angle*np.pi/180),np.cos(dip_angle*np.pi/180)]\n",
    "normal_ref_vertical=[np.cos(normal_tostrike*np.pi/180),-np.sin(normal_tostrike*np.pi/180)]\n"
   ]
  },
  {
   "cell_type": "code",
   "execution_count": null,
   "metadata": {},
   "outputs": [],
   "source": [
    "\n",
    "#dip_angle=90-angle_dip\n",
    "#strike_angle=-angle_strike+90\n",
    "dipangle=90-160 # dip of 20 degrees toward east\n",
    "strikeangle=-155+90\n",
    "\n",
    "ddx1 = R.from_euler('x', dipangle, degrees=True) #first rotation around X; for section with dip 20 we have to use -90+dip \n",
    "ddx2 = R.from_euler('z', strikeangle, degrees=True) #rotation around Z for strike\n",
    "\n"
   ]
  },
  {
   "cell_type": "code",
   "execution_count": null,
   "metadata": {},
   "outputs": [],
   "source": [
    "dippedd=np.array([0,0,-1])\n",
    "dippedd_rotated2=ddx1.apply(dippedd)\n",
    "dippedd_rotated1=ddx2.apply(dippedd_rotated2)"
   ]
  },
  {
   "cell_type": "code",
   "execution_count": null,
   "metadata": {},
   "outputs": [],
   "source": [
    "strikkedd=np.array([1,0,0])\n",
    "strikkedd_rotated2=ddx1.apply((strikkedd))\n",
    "strikkedd_rotated1=ddx2.apply((strikkedd_rotated2))\n",
    "\n"
   ]
  },
  {
   "cell_type": "code",
   "execution_count": null,
   "metadata": {},
   "outputs": [],
   "source": [
    "\n",
    "ppx=strikkedd_rotated1\n",
    "ppy=dippedd_rotated1\n"
   ]
  },
  {
   "cell_type": "code",
   "execution_count": null,
   "metadata": {},
   "outputs": [],
   "source": [
    "#distance reference point\n",
    "distpoM1_refOFF=distance_point_from_plane(utmx_am_poM1/1000,utmy_am_poM1/1000, -am_poM1['depth'], normal_ref, mainev_ref_off)\n",
    "\n",
    "# selection distance < x\n",
    "resultdist1poM1OFF = np.where(distpoM1_refOFF <2. )# 2.2 con scelta collettini 30 gradi\n",
    "\n",
    "vettore_distOFF=np.array([(utmx_am_poM1[resultdist1poM1OFF]/1000-mainev_ref_off[0]),(utmy_am_poM1[resultdist1poM1OFF]/1000-mainev_ref_off[1]),(+am_poM1['depth'].loc[resultdist1poM1OFF]+mainev_ref_off[2])])\n",
    "\n",
    "tot_distOFF=np.array(np.sqrt((utmx_am_poM1[resultdist1poM1OFF]/1000-mainev_ref_off[0])**2+(utmy_am_poM1[resultdist1poM1OFF]/1000-mainev_ref_off[1])**2+(-am_poM1['depth'].loc[resultdist1poM1OFF]-mainev_ref_off[2])**2))\n",
    "\n",
    "dist_projectOFF=np.array((np.sqrt(tot_distOFF**2-(distpoM1_refOFF.loc[resultdist1poM1OFF])**2)))\n",
    "\n"
   ]
  },
  {
   "cell_type": "code",
   "execution_count": null,
   "metadata": {},
   "outputs": [],
   "source": [
    "X_onsection1poM1OFF=np.empty([0])\n",
    "Y_onsection1poM1OFF=np.empty([0])\n",
    "for i in range(len(vettore_distOFF[1,:])):\n",
    "    rec_rotX=np.dot(ppx,vettore_distOFF[:,i])\n",
    "    rec_rotY=np.dot(ppy,vettore_distOFF[:,i])\n",
    "    #print(rec_rot.shape)\n",
    "    #print(rec_rot)\n",
    "    X_onsection1poM1OFF=np.append(X_onsection1poM1OFF, [rec_rotX], axis=0)\n",
    "    Y_onsection1poM1OFF=np.append(Y_onsection1poM1OFF, [rec_rotY], axis=0)"
   ]
  },
  {
   "cell_type": "code",
   "execution_count": null,
   "metadata": {},
   "outputs": [],
   "source": [
    "%matplotlib inline\n",
    "print(dip_angle)\n",
    "fig, ax = plt.subplots(nrows=1, ncols=1, figsize=(18, 10))\n",
    "\n",
    "#-mainev_ref_off[2]/np.sin(dip_angle*np.pi/180)\n",
    "ax.scatter(X_onsection1poM1OFF,Y_onsection1poM1OFF,c='b',s=0.2,marker='.',alpha=.9,label='x')\n",
    "##proiezione along distance - perpendicular\n",
    "ax.scatter(0, 0, marker='*', c='r',s=250, label='Mw 6.5')\n",
    "#\n",
    "#rect = patches.Rectangle((fm_onsection_ref, -depth_ref/np.sin(dip_angle*np.pi/180)), 6, 5, angle=90,linewidth=2, edgecolor='r', facecolor='none')\n",
    "#\n",
    "## Add the patch to the Axes\n",
    "#ax.add_patch(rect)\n",
    "#rect1 = patches.Rectangle((fm_onsection_ref, -depth_ref/np.sin(dip_angle*np.pi/180)), 6, -5, angle=90,linewidth=2, edgecolor='r', facecolor='none')\n",
    "#\n",
    "## Add the patch to the Axes\n",
    "#ax.add_patch(rect1)\n",
    "\n",
    "ax.set_ylabel('along dip',fontsize=20)\n",
    "ax.set_xlabel('along strike',fontsize=20)\n",
    "ax.set_ylim(-20,20)\n",
    "ax.set_xlim(-20,20)\n",
    "ax.set_aspect('equal', adjustable='box')\n"
   ]
  },
  {
   "cell_type": "code",
   "execution_count": null,
   "metadata": {},
   "outputs": [],
   "source": [
    "%matplotlib inline\n",
    "fig = plt.figure(figsize=(10,10))\n",
    "ax = fig.add_subplot(111)\n",
    "ax.scatter(am_poM1['lon'],am_poM1['lat'], c='gray',marker='.',alpha=0.5)\n",
    "ax.scatter(am_poM1['lon'].loc[resultdist1poM1OFF],am_poM1['lat'].loc[resultdist1poM1OFF], c='r',marker='.')\n"
   ]
  },
  {
   "cell_type": "code",
   "execution_count": null,
   "metadata": {},
   "outputs": [],
   "source": [
    "%matplotlib inline \n",
    "fig = plt.figure(figsize=(10,10))\n",
    "ax = fig.add_subplot(111)\n",
    "ax.scatter(utmx_am_poM1/1000,utmy_am_poM1/1000, c='gray',marker='.',alpha=0.5)\n",
    "ax.scatter(utmx_am_poM1[resultdist1poM1OFF]/1000,utmy_am_poM1[resultdist1poM1OFF]/1000, c='r',marker='.')\n"
   ]
  },
  {
   "cell_type": "code",
   "execution_count": null,
   "metadata": {},
   "outputs": [],
   "source": [
    "#create catalog with events belong to DHWS\n",
    "\n",
    "offfault_eve=am_poM1.copy()\n",
    "offfault_eve=offfault_eve.loc[resultdist1poM1OFF]\n",
    "offfault_eve= offfault_eve.reset_index(drop=True)\n"
   ]
  },
  {
   "cell_type": "code",
   "execution_count": null,
   "metadata": {},
   "outputs": [],
   "source": [
    "utmx_off,utmy_off=utm33(np.array(offfault_eve['lon']),np.array(offfault_eve['lat']))   # 1 day pre M 6.5"
   ]
  },
  {
   "cell_type": "code",
   "execution_count": null,
   "metadata": {},
   "outputs": [],
   "source": []
  },
  {
   "cell_type": "code",
   "execution_count": null,
   "metadata": {},
   "outputs": [],
   "source": []
  },
  {
   "cell_type": "code",
   "execution_count": null,
   "metadata": {},
   "outputs": [],
   "source": [
    "#strike_ref=150\n",
    "#normal_tostrike=strike_ref-90   \n",
    "dip_angle=90\n",
    "normal_tostrike=155-90   #direction of the section to plot\n",
    "normal_ref=[np.sin(dip_angle*np.pi/180)*np.cos(normal_tostrike*np.pi/180),-np.sin(normal_tostrike*np.pi/180)*np.sin(dip_angle*np.pi/180),np.cos(dip_angle*np.pi/180)]\n",
    "normal_ref_vertical=[np.cos(normal_tostrike*np.pi/180),-np.sin(normal_tostrike*np.pi/180)]"
   ]
  },
  {
   "cell_type": "code",
   "execution_count": null,
   "metadata": {},
   "outputs": [],
   "source": [
    "##distance reference point\n",
    "dist_orthog=distance_point_from_plane(utmx_off/1000,utmy_off/1000, -offfault_eve['depth'], normal_ref, mainev_ref_off)\n",
    "#plt.plot(distpoM1_ref)\n",
    "## selection distance < x\n",
    "resultdist1_othog = np.where(dist_orthog <5)\n",
    "#\n",
    "# X on cross section \n",
    "X_onsec_othog_off=+(utmy_off/1000-mainev_ref_off[1])*normal_ref_vertical[0]-(utmx_off/1000-mainev_ref_off[0])*normal_ref_vertical[1]\n"
   ]
  },
  {
   "cell_type": "code",
   "execution_count": null,
   "metadata": {},
   "outputs": [],
   "source": [
    "%matplotlib inline\n",
    "fig, ax = plt.subplots(nrows=1, ncols=1, figsize=(18, 10))\n",
    "ax.scatter(X_onsec_othog_off[resultdist1_othog],-offfault_eve['depth'].loc[resultdist1_othog]/np.sin(dip_angle*np.pi/180),c='b',s=0.5,marker='.',alpha=.5,label='x')\n",
    "ax.scatter(fm_onsection_ref, -depth_ref/np.sin(dip_angle*np.pi/180), marker='*', c='r',s=250, label='Mw 6.5')\n",
    "ax.scatter(X_on,-close_on['depth']/np.sin(dip_angle*np.pi/180),c='k',s=1,marker='.',alpha=0.2)\n",
    "ax.set_title('5 km thick')\n",
    "ax.set_ylim(-15,0)\n",
    "ax.set_xlim(-20,20)\n",
    "ax.set_aspect('equal', adjustable='box')"
   ]
  },
  {
   "cell_type": "code",
   "execution_count": null,
   "metadata": {},
   "outputs": [],
   "source": [
    "dip_angle=20"
   ]
  },
  {
   "cell_type": "code",
   "execution_count": null,
   "metadata": {},
   "outputs": [],
   "source": [
    "where_off = (X_onsection1poM1OFF> -5.) &(X_onsection1poM1OFF< 5.)&(Y_onsection1poM1OFF>1)&(Y_onsection1poM1OFF<8.)&(offfault_eve['depth']>5)&(offfault_eve['depth']<9.0)"
   ]
  },
  {
   "cell_type": "code",
   "execution_count": null,
   "metadata": {},
   "outputs": [],
   "source": [
    "%matplotlib inline\n",
    "fig, ax = plt.subplots()\n",
    "offfault_eve['Mw'][where_off].plot.hist(ax=ax, bins=50)#, bottom=1)"
   ]
  },
  {
   "cell_type": "code",
   "execution_count": null,
   "metadata": {},
   "outputs": [],
   "source": [
    "close_off=offfault_eve[where_off]\n",
    "close_off= close_off.reset_index(drop=True)\n",
    "close_off"
   ]
  },
  {
   "cell_type": "code",
   "execution_count": null,
   "metadata": {},
   "outputs": [],
   "source": [
    "%matplotlib inline\n",
    "from mpl_toolkits.mplot3d import Axes3D  \n",
    "\n",
    "\n",
    "fig = plt.figure(figsize=(10,10))\n",
    "ax = fig.add_subplot(111, projection='3d')\n",
    "ax.view_init(0, 313)\n",
    "ax.scatter(utmx_off[where_off]/1000, utmy_off[where_off]/1000,-offfault_eve['depth'].loc[where_off], c='k',marker='.')\n"
   ]
  },
  {
   "cell_type": "code",
   "execution_count": null,
   "metadata": {},
   "outputs": [],
   "source": []
  },
  {
   "cell_type": "code",
   "execution_count": null,
   "metadata": {},
   "outputs": [],
   "source": [
    "\n",
    "dip_angle=90\n",
    "normal_tostrike=155-90   #direction of the section to plot\n",
    "normal_ref=[np.sin(dip_angle*np.pi/180)*np.cos(normal_tostrike*np.pi/180),-np.sin(normal_tostrike*np.pi/180)*np.sin(dip_angle*np.pi/180),np.cos(dip_angle*np.pi/180)]\n",
    "normal_ref_vertical=[np.cos(normal_tostrike*np.pi/180),-np.sin(normal_tostrike*np.pi/180)]"
   ]
  },
  {
   "cell_type": "code",
   "execution_count": null,
   "metadata": {},
   "outputs": [],
   "source": [
    "utmx_close_off,utmy_close_off=utm33(np.array(close_off['lon']),np.array(close_off['lat'])) "
   ]
  },
  {
   "cell_type": "code",
   "execution_count": null,
   "metadata": {},
   "outputs": [],
   "source": [
    "#distance reference point\n",
    "dist_ref=distance_point_from_plane(utmx_close_off/1000,utmy_close_off/1000, -close_off['depth'], normal_ref, mainev_ref_off)\n",
    "\n",
    "# X on cross section \n",
    "X_off=+(utmy_close_off/1000-mainev_ref_off[1])*normal_ref_vertical[0]-(utmx_close_off/1000-mainev_ref_off[0])*normal_ref_vertical[1]\n"
   ]
  },
  {
   "cell_type": "code",
   "execution_count": null,
   "metadata": {},
   "outputs": [],
   "source": [
    "%matplotlib inline\n",
    "fig, ax = plt.subplots(nrows=1, ncols=1, figsize=(10, 7))\n",
    "#ax.scatter(X_onsection_more,(-am['depth'].loc[resultdist_more])/np.sin(dip_angle*np.pi/180),c='k',s=10,marker='.',alpha=.2,label='x')\n",
    "\n",
    "ax.scatter(X_off,-close_off['depth']/np.sin(dip_angle*np.pi/180),c='b',s=20,marker='.',alpha=0.2)\n",
    "#ax.scatter(fm_onsection_ref, -depth_ref/np.sin(dip_angle*np.pi/180), marker='*', c='c',s=250, label='Mw 6.5')\n",
    "\n",
    "\n",
    "ax.set_aspect('equal', adjustable='box')"
   ]
  },
  {
   "cell_type": "code",
   "execution_count": null,
   "metadata": {},
   "outputs": [],
   "source": [
    "%matplotlib inline \n",
    "fig, ax = plt.subplots(nrows=1, ncols=1, figsize=(18, 10))\n",
    "ax.scatter(X_onsection1m,-am_poM1['depth'].loc[resultdist1m],c='gray',s=0.2,marker='.',alpha=.5,label='x')\n",
    "ax.scatter(X_off,-close_off['depth'],c='r',s=0.5,marker='.',alpha=.5,label='x')\n",
    "ax.scatter(X_on,-close_on['depth'],c='k',s=0.5,marker='.',alpha=0.5)\n",
    "ax.scatter(fm_onsection_ref, -depth_ref/np.sin(dip_angle*np.pi/180), marker='*', c='yellow',s=250, label='Mw 6.5')\n",
    "rect = patches.Rectangle((fm_onsection_ref, -depth_ref/np.sin(dip_angle*np.pi/180)), -3, 9, angle=90,linewidth=2, edgecolor='r', facecolor='none')\n",
    "ax.set_ylim(-15,0)\n",
    "ax.set_xlim(-10,5)\n",
    "ax.set_aspect('equal', adjustable='box')\n",
    "plt.xlabel('x (km)',fontsize=22)\n",
    "plt.ylabel('depth (km)',fontsize=22)\n",
    "plt.savefig('./figure/2D_selected_norcia.pdf', bbox_inches='tight')"
   ]
  },
  {
   "cell_type": "code",
   "execution_count": null,
   "metadata": {},
   "outputs": [],
   "source": []
  },
  {
   "cell_type": "code",
   "execution_count": null,
   "metadata": {},
   "outputs": [],
   "source": [
    "%matplotlib inline\n",
    "fig=plt.figure(figsize=(14,5))\n",
    "plt.plot(am['time'],am['Mw'],'kx')\n",
    "plt.plot(offfault_eve['time'],offfault_eve['Mw'],'o')\n",
    "plt.plot(close_off['time'],close_off['Mw'],'ro')"
   ]
  },
  {
   "cell_type": "code",
   "execution_count": null,
   "metadata": {},
   "outputs": [],
   "source": [
    "%matplotlib inline\n",
    "fig, axs = plt.subplots(2,figsize=(14,10))\n",
    "\n",
    "axs[0].plot(close_off['time'],close_off['Mw'],'r.')\n",
    "axs[1].plot(close_on['time'],close_on['Mw'],'k.')\n",
    "axs[0].set_ylim(0,6.6)\n",
    "axs[1].set_ylim(0,6.5)"
   ]
  },
  {
   "cell_type": "code",
   "execution_count": null,
   "metadata": {},
   "outputs": [],
   "source": []
  },
  {
   "cell_type": "code",
   "execution_count": null,
   "metadata": {},
   "outputs": [],
   "source": [
    "#catalogue to use\n",
    "df = close_off.copy()\n",
    "df"
   ]
  },
  {
   "cell_type": "code",
   "execution_count": null,
   "metadata": {},
   "outputs": [],
   "source": [
    "# Reload class (e.g., to consider modifications in the code)\n",
    "import importlib\n",
    "import mc_lilliefors\n",
    "importlib.reload(mc_lilliefors)\n",
    "from mc_lilliefors import McLilliefors\n",
    "\n",
    "lill = McLilliefors(\n",
    "    df.Mw,\n",
    "    # signif_lev=0.1  # [default: 0.1]\n",
    ")\n",
    "\n",
    "lill.calc_testdistr_mcutoff(\n",
    "    n_repeats=50,  # number of iterations for the random noise\n",
    "    Mstart=1.0,  # lowest magnitude for which to perform the test\n",
    "    # log=False,  # whether to show anythe progress bar\n",
    ")\n",
    "\n"
   ]
  },
  {
   "cell_type": "code",
   "execution_count": null,
   "metadata": {},
   "outputs": [],
   "source": [
    "fig = lill.plot_testdist_expon_mcutoff()\n",
    "fig.layout.update(\n",
    "    xaxis_range=(1, 6.0),\n",
    ")\n",
    "\n",
    "fig.show(width=fig.layout.width, height=fig.layout.height)"
   ]
  },
  {
   "cell_type": "code",
   "execution_count": null,
   "metadata": {},
   "outputs": [],
   "source": [
    "Mc = lill.estimate_Mc_expon_test()\n",
    "\n",
    "print(\"Mc-Lilliefors: %s\\n   --> number of events ≥ Mc-Lilliefors: %d\" % (Mc, lill.estimates['n_compl']))"
   ]
  },
  {
   "cell_type": "code",
   "execution_count": null,
   "metadata": {},
   "outputs": [],
   "source": [
    "Mc_off=Mc\n",
    "#Mc=1."
   ]
  },
  {
   "cell_type": "code",
   "execution_count": null,
   "metadata": {},
   "outputs": [],
   "source": [
    "#catalogue=close_on.copy()\n",
    "#magnitudes=catalogue['Mw']\n",
    "catalogue=close_off.copy()\n",
    "magnitudes=close_off['Mw']"
   ]
  },
  {
   "cell_type": "code",
   "execution_count": null,
   "metadata": {},
   "outputs": [],
   "source": [
    "# Magnitude bins\n",
    "\n",
    "min_mag=np.min(catalogue['Mw']) # estremi per il plot\n",
    "max_mag=np.max(catalogue['Mw'])+interval #estremi per il plot\n",
    "min_mag_bin=Mc\n",
    "max_mag_bin=np.max(catalogue['Mw'])+interval\n",
    "\n",
    "bins_off = np.arange(min_mag_bin, max_mag_bin, interval)\n",
    "# Magnitude bins for plotting - we will re-arrange bins later\n",
    "plot_bins_off = np.arange(min_mag, max_mag, interval)\n",
    "\n",
    "\n",
    "wwww=np.where(catalogue['Mw']>min_mag_bin)\n",
    "plt.hist(catalogue['Mw'].loc[wwww], bins_off, alpha = 0.5, label='a')\n",
    "plt.hist(catalogue['Mw'], plot_bins_off, alpha = 0.5, label='b')\n",
    "###########################################################################\n",
    "# Generate distribution\n",
    "###########################################################################\n",
    "# Generate histogram\n",
    "hist = np.histogram(catalogue['Mw'],bins=bins_off)\n",
    "hist_plot = np.histogram(catalogue['Mw'],bins=plot_bins_off)\n",
    "\n",
    "# Reverse array order\n",
    "hist = hist[0][::-1]\n",
    "bins_off = bins_off[::-1]\n",
    "#plot \n",
    "hist_plot = hist_plot[0][::-1]\n",
    "plot_bins_off = plot_bins_off[::-1]\n",
    "\n",
    "# Calculate cumulative sum\n",
    "cum_hist = hist.cumsum()\n",
    "# Ensure bins have the same length has the cumulative histogram.\n",
    "# Remove the upper bound for the highest interval.\n",
    "bins_off = bins_off[1:]\n",
    "\n",
    "\n",
    "cum_hist_plot_off = hist_plot.cumsum()\n",
    "plot_bins_off = plot_bins_off[1:]\n",
    "wherecum=np.where(cum_hist>0)\n",
    "#log_cum_sum = np.log10(cum_hist[2::])\n",
    "log_cum_sum_off = np.log10(cum_hist[wherecum])\n",
    "\n",
    "\n"
   ]
  },
  {
   "cell_type": "code",
   "execution_count": null,
   "metadata": {
    "scrolled": true
   },
   "outputs": [],
   "source": [
    "%matplotlib inline\n",
    "fig, ax = plt.subplots()\n",
    "offfault_eve['Mw'][where_off].plot.hist(ax=ax, bins=50)#, bottom=1)"
   ]
  },
  {
   "cell_type": "code",
   "execution_count": null,
   "metadata": {},
   "outputs": [],
   "source": [
    "## Compute b-value and confidence interval\n",
    "#b, conf_int = b_value(mags, mt, perc=[2.5, 97.5], n_reps=10000)\n",
    "\n",
    "mags=magnitudes\n",
    "mt=Mc\n",
    "compute_b_value_mle, conf_int = compute_b_value(mags, mt,interval, perc=[2.5, 97.5], n_reps=10000)\n",
    "# Generate samples to for theoretical ECDF\n",
    "m_theor = np.random.exponential(compute_b_value_mle/np.log(10), size=100000) + mt \n",
    "# Plot the theoretical CDF\n",
    "_ = plt.plot(*dcst.ecdf(m_theor))\n",
    "\n",
    "# Plot the ECDF (slicing mags >= mt)\n",
    "_ = plt.plot(*dcst.ecdf(mags[mags >= mt]), marker='.', linestyle='none')\n",
    "\n",
    "# Pretty up and show the plot\n",
    "_ = plt.xlabel('magnitude')\n",
    "_ = plt.ylabel('ECDF')\n",
    "#_ = plt.xlim(2.8, 6.2)\n",
    "plt.show()\n",
    "\n",
    "# Report the results\n",
    "print(\"\"\"\n",
    "b-value: {0:.5f}\n",
    "95% conf int: [{1:.5f}, {2:.5f}]\"\"\".format(1/compute_b_value_mle, *conf_int**(-1)))\n",
    "compute_b_value_mle=1/compute_b_value_mle"
   ]
  },
  {
   "cell_type": "code",
   "execution_count": null,
   "metadata": {},
   "outputs": [],
   "source": [
    "#b_value_off=0.99\n",
    "b_off=compute_b_value_mle"
   ]
  },
  {
   "cell_type": "code",
   "execution_count": null,
   "metadata": {},
   "outputs": [],
   "source": [
    "num_eq=len(magnitudes)\n",
    "annual_num_eq = num_eq\n",
    "## Get annual rate\n",
    "cum_annual_rate = cum_hist\n",
    "\n",
    "new_cum_annual_rate = []\n",
    "for i in cum_annual_rate:\n",
    "    new_cum_annual_rate.append(i+1e-20)"
   ]
  },
  {
   "cell_type": "code",
   "execution_count": null,
   "metadata": {},
   "outputs": [],
   "source": [
    "# Generate data to plot maximum likelihood linear curve \n",
    "\n",
    "num_eve=len(catalogue['Mw'].loc[np.where(catalogue['Mw']>min_mag_bin)])\n",
    "mle_fit = -1.0 * compute_b_value_mle *bins_off + 1.0 * compute_b_value_mle * min_mag_bin + np.log10(num_eve)\n",
    "log_mle_fit = []\n",
    "for value in mle_fit:\n",
    "    log_mle_fit.append(np.power(10,value))\n",
    "    \n",
    "# Compare b-value of 1\n",
    "fit_data = -1.0 * bins_off + min_mag_bin + np.log10(num_eve)\n",
    "log_fit_data = []\n",
    "for value in fit_data:\n",
    "    log_fit_data.append(np.power(10,value))\n",
    "\n",
    "print(log_cum_sum_off[-1],np.log10(num_eve))\n",
    "print('compute_b_value_mle=',compute_b_value_mle)"
   ]
  },
  {
   "cell_type": "code",
   "execution_count": null,
   "metadata": {},
   "outputs": [],
   "source": [
    "log_mle_fit_off=log_mle_fit"
   ]
  },
  {
   "cell_type": "code",
   "execution_count": null,
   "metadata": {},
   "outputs": [],
   "source": [
    "wherecumplot_off=np.where(cum_hist_plot_off>0)\n",
    "%matplotlib inline\n",
    "# Plotting\n",
    "fig, ax = plt.subplots(figsize=(15,8))\n",
    "ax.plot(plot_bins_off[wherecumplot_off],cum_hist_plot_off[wherecumplot_off],'xr',label = 'DhWS events of selected period')\n",
    "ax.scatter(bins_off, new_cum_annual_rate, label = 'DhWS events with M>M_lilliefors')\n",
    "ax.plot(bins_off, log_mle_fit, c = 'b', label = 'bvalue_MLE= %f'%b_off)\n",
    "ax.plot(bins_off, log_fit_data, c = 'k', linestyle='--', label = 'b=1')\n",
    "\n",
    "\n",
    "#ax.plot(bins, ls_fit2, c = 'k')\n",
    "ax.set_yscale('log')\n",
    "ax.legend(fontsize=24)\n",
    "#ax.set_ylim([min(new_cum_annual_rate) * 0.1, max(new_cum_annual_rate) * 10.])\n",
    "ax.set_ylim(1e-2, max(new_cum_annual_rate) * 100.)\n",
    "ax.set_xlim([min_mag - 1, max_mag + 0.5])\n",
    "ax.set_ylabel('Number events',fontsize=20)\n",
    "ax.set_xlabel('Magnitude',fontsize=20)\n",
    "ax.xaxis.set_tick_params(labelsize=20)\n",
    "ax.yaxis.set_tick_params(labelsize=20)\n",
    "plt.show()\n",
    "\n"
   ]
  },
  {
   "cell_type": "code",
   "execution_count": null,
   "metadata": {},
   "outputs": [],
   "source": []
  },
  {
   "cell_type": "code",
   "execution_count": null,
   "metadata": {},
   "outputs": [],
   "source": [
    "fig, ax = plt.subplots(nrows=1, ncols=1, figsize=(18, 10))\n",
    "ax.plot(plot_bins_all[2::],cum_hist_plot_all[2::],'ob',label = 'Catalogue - all events in the selected time period')\n",
    "#ax.scatter(bins_all, new_cum_annual_rate_all, label = 'Catalogue - all events')\n",
    "ax.plot(plot_bins_off[wherecumplot_off],(cum_hist_plot_off[wherecumplot_off]),'or',label='DhWS fault - TE')\n",
    "ax.plot(plot_bins[wherecumplot],(cum_hist_plot[wherecumplot]),'ok',label='On fault')\n",
    "ax.plot(bins_off, log_mle_fit_off, c = 'r', label = 'bvalue_MLE_DhWS b=%.2f'%b_off)\n",
    "ax.plot(bins_all, log_mle_fit_all, c = 'b', label = 'bvalue_MLE_all b=%.2f'%b_all)\n",
    "ax.plot(bin_on, log_mle_fit_on, c = 'k', label = 'bvalue_MLE_on b=%.2f'%b_on)\n",
    "ax.plot([Mc_on ,Mc_on], [1, 1e6], linewidth=3, color='k')\n",
    "ax.plot([Mc_off ,Mc_off], [1, 1e6], linewidth=3,linestyle='--', color='r')\n",
    "ax.plot([Mc_all ,Mc_all], [1, 1e6], linewidth=3, color='b')\n",
    "ax.set_yscale('log')\n",
    "ax.set_ylim(0.5, 1e6)\n",
    "ax.legend(fontsize=20)\n",
    "ax.set_ylabel('Number of events', fontsize=24)\n",
    "ax.set_xlabel('Magnitude', fontsize=24)\n",
    "ax.xaxis.set_tick_params(labelsize=20)\n",
    "ax.yaxis.set_tick_params(labelsize=20)\n",
    "ax.grid(color='0.95')"
   ]
  },
  {
   "cell_type": "code",
   "execution_count": null,
   "metadata": {},
   "outputs": [],
   "source": [
    "fig, ax = plt.subplots(nrows=1, ncols=1, figsize=(10, 10))\n",
    "ax.plot(plot_bins_off[wherecumplot_off],(cum_hist_plot_off[wherecumplot_off]),'or')#,label='Off fault - TE')\n",
    "ax.plot(plot_bins[wherecumplot],(cum_hist_plot[wherecumplot]),'ok')#,label='On fault')\n",
    "ax.plot(bins_off, log_mle_fit_off, c = 'r', label = 'b DHwS=%.2f'%b_off)\n",
    "ax.plot(bin_on, log_mle_fit_on, c = 'k', label = 'b (on fault)=%.2f'%b_on)\n",
    "ax.plot([Mc_on ,Mc_on], [1, 1e6], 'k--')\n",
    "ax.plot([Mc_off ,Mc_off], [1, 1e6], 'r.-')\n",
    "ax.set_yscale('log')\n",
    "ax.legend(fontsize=24)\n",
    "ax.set_ylabel('Number of events', fontsize=24)\n",
    "ax.set_xlabel('Magnitude', fontsize=24)\n",
    "#ax.set_title('WHOLE PERIOD HANG & FOOT ')\n",
    "ax.set_ylim(0.5, 10e4)\n",
    "ax.set_xlim(0., 6.5)\n",
    "ax.xaxis.set_tick_params(labelsize=20)\n",
    "ax.yaxis.set_tick_params(labelsize=20)\n",
    "ax.grid(color='0.95')\n",
    "fig.savefig(\"./figure/on_fault_vs_DhWS.pdf\", bbox_inches='tight')"
   ]
  },
  {
   "cell_type": "code",
   "execution_count": null,
   "metadata": {},
   "outputs": [],
   "source": []
  },
  {
   "cell_type": "code",
   "execution_count": null,
   "metadata": {},
   "outputs": [],
   "source": [
    "%matplotlib inline\n",
    "from mpl_toolkits.mplot3d import Axes3D  \n",
    "\n",
    "\n",
    "fig = plt.figure(figsize=(10,10))\n",
    "ax = fig.add_subplot(111, projection='3d')\n",
    "ax.view_init(20, 250)\n",
    "#ww=np.where(am_poM1['depth']<12)\n",
    "#ax.scatter(utmx_am_poM1[ww]/1000,utmy_am_poM1[ww]/1000,-am_poM1['depth'].loc[ww],c='grey',marker='.',alpha=0.4)\n",
    "ax.set_xlabel('x(km)', fontsize='22')\n",
    "ax.set_ylabel('y(km)', fontsize='22')\n",
    "ax.set_zlabel('depth (km)', fontsize='22')\n",
    "ax.scatter(utmx_onf[where_onf]/1000, utmy_onf[where_onf]/1000,-onfault_eve['depth'].loc[where_onf], c='k',marker='.',s=0.5)\n",
    "ax.scatter(utmx_off[where_off]/1000, utmy_off[where_off]/1000,-offfault_eve['depth'].loc[where_off], c='r',marker='.',s=0.5)\n",
    "plt.savefig('./figure/3D_norcia.pdf', bbox_inches='tight')\n"
   ]
  },
  {
   "cell_type": "code",
   "execution_count": null,
   "metadata": {},
   "outputs": [],
   "source": []
  },
  {
   "cell_type": "markdown",
   "metadata": {},
   "source": [
    "### Maps"
   ]
  },
  {
   "cell_type": "code",
   "execution_count": null,
   "metadata": {},
   "outputs": [],
   "source": [
    "utmx_largeeve,utmy_largeeve=utm33(np.array(largeeve['lon']),np.array(largeeve['lat']))\n",
    "\n",
    "%matplotlib inline\n",
    "#%matplotlib inline\n",
    "fig = plt.figure(figsize=(10,10))\n",
    "ax = fig.add_subplot(111)\n",
    "ax.scatter(utmx_am/1000,utmy_am/1000, s=0.01,marker='o', c='gray', alpha=.5, label='Tan et al., 2021')\n",
    "ax.scatter(utmx_off[where_off]/1000, utmy_off[where_off]/1000, c='r',marker='o',s=0.1,alpha=0.9, label='Selected')\n",
    "ax.scatter(utmx_onf[where_onf]/1000, utmy_onf[where_onf]/1000, c='k',marker='o',s=0.1,alpha=.9, label='Selected')\n",
    "ax.scatter(utmx_largeeve/1000, utmy_largeeve/1000, c='yellow',marker='*',s=100,alpha=.9, label='Selected')\n",
    "ax.scatter(mainev_ref[0], mainev_ref[1],s=100, c='yellow',marker='*', label='Norcia Mainshock')\n",
    "ax.set_xlim(330,370)\n",
    "ax.set_ylim(4730,4760)\n",
    "\n",
    "#plt.legend(fontsize=11, markerscale=2)\n",
    "plt.xlabel('x (km)',fontsize=16)\n",
    "plt.ylabel('y (km)',fontsize=16)\n",
    "ax.xaxis.set_tick_params(labelsize=16)\n",
    "ax.yaxis.set_tick_params(labelsize=16)\n",
    "ax=plt.gca()\n",
    "ax.set_aspect('equal')\n",
    "ax.grid()\n",
    "plt.savefig('./figure/map_on_DhWS.pdf', bbox_inches='tight')"
   ]
  },
  {
   "cell_type": "code",
   "execution_count": null,
   "metadata": {},
   "outputs": [],
   "source": []
  },
  {
   "cell_type": "code",
   "execution_count": null,
   "metadata": {},
   "outputs": [],
   "source": [
    "%matplotlib inline\n",
    "from mpl_toolkits.mplot3d import Axes3D  \n",
    "\n",
    "\n",
    "fig = plt.figure(figsize=(10,10))\n",
    "ax = fig.add_subplot(111, projection='3d')\n",
    "ax.view_init(20, 250)\n",
    "#ww=np.where(am_poM1['depth']<12)\n",
    "#ax.scatter(utmx_am_poM1[ww]/1000,utmy_am_poM1[ww]/1000,-am_poM1['depth'].loc[ww],c='grey',marker='.',alpha=0.4)\n",
    "\n",
    "ax.scatter(close_on['lon'], close_on['lat'],-close_on['depth'], c='k',marker='.',s=0.1)\n",
    "ax.scatter(close_off['lon'], close_off['lat'],-close_off['depth'],  c='r',marker='.',s=0.1)\n",
    "plt.savefig('./figure/3D_norcia.png', bbox_inches='tight')"
   ]
  },
  {
   "cell_type": "code",
   "execution_count": null,
   "metadata": {},
   "outputs": [],
   "source": []
  },
  {
   "cell_type": "code",
   "execution_count": null,
   "metadata": {},
   "outputs": [],
   "source": [
    "\n",
    "file_name_save='off_fault_wholeperiod.csv'  \n",
    "close_off.to_pickle(file_name_save)"
   ]
  },
  {
   "cell_type": "code",
   "execution_count": null,
   "metadata": {},
   "outputs": [],
   "source": [
    "file_name_save='on_fault_wholeperiod.csv'  \n",
    "close_on.to_pickle(file_name_save)"
   ]
  },
  {
   "cell_type": "markdown",
   "metadata": {},
   "source": [
    "## Calculate daily events:"
   ]
  },
  {
   "cell_type": "code",
   "execution_count": null,
   "metadata": {},
   "outputs": [],
   "source": [
    "#------------my modules-----------------------\n",
    "import seis_utils \n",
    "import scipy.stats"
   ]
  },
  {
   "cell_type": "code",
   "execution_count": null,
   "metadata": {},
   "outputs": [],
   "source": []
  },
  {
   "cell_type": "code",
   "execution_count": null,
   "metadata": {},
   "outputs": [],
   "source": [
    "%matplotlib inline\n",
    "datab=close_on[((close_on['Mw'] >=1))]\n",
    "datab= datab.reset_index(drop=True)\n",
    "\n",
    "year=pd.to_datetime(datab['time']).dt.year\n",
    "month=pd.to_datetime(datab['time']).dt.month\n",
    "day=pd.to_datetime(datab['time']).dt.day\n",
    "hour=pd.to_datetime(datab['time']).dt.hour\n",
    "minutes=pd.to_datetime(datab['time']).dt.minute\n",
    "seconds=pd.to_datetime(datab['time']).dt.second\n",
    "a_t_decYr = np.zeros( len(datab['Mw']))\n",
    "for i in range(  len(datab['Mw'])):\n",
    "    a_t_decYr[i] = seis_utils.dateTime2decYr( [year[i], month[i],day[i],hour[i],minutes[i],seconds[i]])\n",
    "fig = plt.figure(figsize=(12,5))\n",
    "fig, ax= plt.subplots(nrows=2, ncols=1, figsize=(18, 10))\n",
    "binwidth=1/365.\n",
    "ax[0].hist(a_t_decYr, bins=np.arange(min(a_t_decYr),max(a_t_decYr)+binwidth,binwidth),color='k')\n",
    "#plt.hist(a_t_decYr,density=False, bins=100,color='r')\n",
    "\n",
    "#plt.hist(a_t_decYr, bins=np.arange(min(a_t_decYr),max(a_t_decYr)+binwidth,binwidth),color='r')\n",
    "seismic_rate_on=a_t_decYr\n",
    "ax[1].scatter(datab['time'],datab['Mw'],color='k',marker='o')\n",
    "ax[1].set_xlabel('time',fontsize=20)\n",
    "ax[1].set_ylabel('Magnitude',fontsize=20)\n",
    "ax[0].set_ylabel('Seismicity rate',fontsize=20)\n",
    "ax[0].set_title('Min mag 1 ',fontsize=20)\n",
    "ax[0].set(xticklabels=[])\n",
    "ax[0].yaxis.set_tick_params(labelsize=16)\n",
    "ax[1].xaxis.set_tick_params(labelsize=16)\n",
    "ax[1].yaxis.set_tick_params(labelsize=16)\n",
    "fig.savefig(\"./figure/onfault_magnitude_distribution.pdf\", bbox_inches='tight')"
   ]
  },
  {
   "cell_type": "code",
   "execution_count": null,
   "metadata": {},
   "outputs": [],
   "source": []
  },
  {
   "cell_type": "code",
   "execution_count": null,
   "metadata": {},
   "outputs": [],
   "source": [
    "%matplotlib inline\n",
    "databb=close_off[((close_off['Mw'] >= 1.))]\n",
    "databb= databb.reset_index(drop=True)\n",
    "\n",
    "year=pd.to_datetime(databb['time']).dt.year\n",
    "month=pd.to_datetime(databb['time']).dt.month\n",
    "day=pd.to_datetime(databb['time']).dt.day\n",
    "hour=pd.to_datetime(databb['time']).dt.hour\n",
    "minutes=pd.to_datetime(databb['time']).dt.minute\n",
    "seconds=pd.to_datetime(databb['time']).dt.second\n",
    "a_t_decYr = np.zeros( len(databb['Mw']))\n",
    "for i in range(  len(databb['Mw'])):\n",
    "    a_t_decYr[i] = seis_utils.dateTime2decYr( [year[i], month[i],day[i],hour[i],minutes[i],seconds[i]])\n",
    "fig = plt.figure(figsize=(12,5))\n",
    "fig, ax= plt.subplots(nrows=2, ncols=1, figsize=(18, 10))\n",
    "binwidth=1/365.\n",
    "ax[0].hist(a_t_decYr, bins=np.arange(min(a_t_decYr),max(a_t_decYr)+binwidth,binwidth),color='r')\n",
    "seismic_rate_off=a_t_decYr\n",
    "ax[1].scatter(databb['time'],databb['Mw'],color='r',marker='o')\n",
    "ax[1].set_xlabel('time',fontsize=20)\n",
    "ax[1].set_ylabel('Magnitude',fontsize=20)\n",
    "ax[0].set_ylabel('Seismicity rate',fontsize=20)\n",
    "ax[0].set_title('Min mag 1',fontsize=20)\n",
    "ax[0].set(xticklabels=[])\n",
    "ax[0].yaxis.set_tick_params(labelsize=16)\n",
    "ax[1].xaxis.set_tick_params(labelsize=16)\n",
    "ax[1].yaxis.set_tick_params(labelsize=16)\n",
    "fig.savefig(\"./figure/DhWs_magnitude_distribution.pdf\", bbox_inches='tight')"
   ]
  },
  {
   "cell_type": "code",
   "execution_count": null,
   "metadata": {},
   "outputs": [],
   "source": [
    "%matplotlib inline\n",
    "binwidth=1/365.\n",
    "\n",
    "fig, ax= plt.subplots(nrows=2, ncols=1, figsize=(10, 10))\n",
    "binwidth=1/365.\n",
    "ax[0].hist(seismic_rate_off, bins=np.arange(min(seismic_rate_off),max(seismic_rate_off)+binwidth,binwidth),color='r')\n",
    "ax[0].hist(seismic_rate_on, bins=np.arange(min(seismic_rate_on),max(seismic_rate_on)+binwidth,binwidth),color='k',alpha=0.5)\n",
    "\n",
    "\n",
    "ax[1].scatter(databb['time'],databb['Mw'],color='r',marker='o')\n",
    "ax[1].scatter(datab['time'],datab['Mw'],color='k',marker='o',alpha=0.5)\n",
    "\n",
    "ax[1].set_xlabel('time',fontsize=20)\n",
    "ax[1].set_ylabel('Magnitude',fontsize=20)\n",
    "ax[0].set_ylabel('Seismicity rate',fontsize=20)\n",
    "ax[0].set(xticklabels=[])\n",
    "ax[0].yaxis.set_tick_params(labelsize=16)\n",
    "ax[1].xaxis.set_tick_params(labelsize=16,rotation=45)\n",
    "ax[1].yaxis.set_tick_params(labelsize=16)\n",
    "fig.savefig(\"./figure/DhWs_ON_FAULT.pdf\", bbox_inches='tight')"
   ]
  },
  {
   "cell_type": "code",
   "execution_count": null,
   "metadata": {},
   "outputs": [],
   "source": []
  },
  {
   "cell_type": "markdown",
   "metadata": {},
   "source": [
    "## Compute b-value on Clusters C1 - C2 -C3"
   ]
  },
  {
   "cell_type": "code",
   "execution_count": null,
   "metadata": {},
   "outputs": [],
   "source": [
    "#SELECT PERIOD:\n",
    "#BEFORE VISSO-NORCIA =1\n",
    "#WHOLE PERIOD =0\n",
    "# FOR THE CLUSTERS WE HAVE TO SELECT PERIOD=0\n",
    "PERIOD=0"
   ]
  },
  {
   "cell_type": "code",
   "execution_count": null,
   "metadata": {},
   "outputs": [],
   "source": [
    "#EVENTS FOR THE WHOLE PERIOD OR BEFORE NORCIA ACCOUNTING FOR STAI from Herrmann et al.\n",
    "start_date0 = '2016-08-15 00:01 '\n",
    "end_date0 = '2016-08-24 01:36:34'#'2016-12-09 06:39' STAI 19,2 ore\n",
    "start_date1 = '2016-08-24 20:36 '\n",
    "end_date1 = '2016-10-26 19:18:10 '\n",
    "start_date2 = '2016-10-27 09:18:10 ' #STAI 14,4 hours\n",
    "end_date2 = '2016-10-30 06:40:19'\n",
    "start_date3 = '2016-11-01 06:40 ' #STAI 48 hours\n",
    "end_date3 = '2017-01-18 09:26'\n",
    "start_date4 = '2017-01-18 21:00 ' # 9,6 hours\n",
    "end_date4 = '2017-08-15 22:16'\n",
    "\n",
    "if PERIOD==0:\n",
    "    am_poM1 = am[((am['time'] >= start_date0) & (am[\"time\"] <= end_date0)) |((am['time'] >= start_date1) & (am[\"time\"] <= end_date1)) | ((am['time'] >= start_date2) & (am[\"time\"] <= end_date2)) | ((am['time'] >= start_date3) & (am[\"time\"] <= end_date3)) | ((am['time'] >= start_date4) & (am[\"time\"] <= end_date4))]\n",
    "    am_poM1= am_poM1.reset_index(drop=True)\n",
    "elif PERIOD==1:\n",
    "    am_poM1 = am[((am['time'] >= start_date0) & (am[\"time\"] <= end_date0)) |((am['time'] >= start_date1) & (am[\"time\"] <= end_date1)) ]\n",
    "    am_poM1= am_poM1.reset_index(drop=True)\n",
    "am_poM1"
   ]
  },
  {
   "cell_type": "code",
   "execution_count": null,
   "metadata": {},
   "outputs": [],
   "source": []
  },
  {
   "cell_type": "code",
   "execution_count": null,
   "metadata": {},
   "outputs": [],
   "source": []
  },
  {
   "cell_type": "code",
   "execution_count": null,
   "metadata": {},
   "outputs": [],
   "source": [
    "#We select a reference earthquake that is at the center of the cluster C1\n",
    "pern_lon=13.2366\n",
    "pern_lat=42.8764\n",
    "pern_depth=7.\n",
    "utmx_pern,utmy_pern=utm33(pern_lon,pern_lat)\n",
    "mainev_pern=[utmx_pern/1000,utmy_pern/1000, -pern_depth ]\n",
    "mainev_pern=np.array(mainev_pern)"
   ]
  },
  {
   "cell_type": "markdown",
   "metadata": {},
   "source": [
    "### Where CLUSTER 1"
   ]
  },
  {
   "cell_type": "code",
   "execution_count": null,
   "metadata": {},
   "outputs": [],
   "source": [
    "#where_onf = (X_onsection_onf> -10) &(X_onsection_onf< 10)&(onfault_eve['depth']<np.abs(mainev_ref[2]))&(onfault_eve['depth']>+2)\n",
    "where_cluster1 = (am_poM1['lon']>13.23) &(am_poM1['lon']<13.241)&(am_poM1['lat']>42.86)&(am_poM1['lat']<42.884)&(am_poM1['depth']>6.2)&(am_poM1['depth']<8.30)\n"
   ]
  },
  {
   "cell_type": "code",
   "execution_count": null,
   "metadata": {},
   "outputs": [],
   "source": [
    "perno_cluster1=am_poM1.copy()\n",
    "perno_cluster1=perno_cluster1.loc[where_cluster1]\n",
    "perno_cluster1= perno_cluster1.reset_index(drop=True)"
   ]
  },
  {
   "cell_type": "code",
   "execution_count": null,
   "metadata": {},
   "outputs": [],
   "source": [
    "%matplotlib inline\n",
    "plt.figure(figsize=(10,5))\n",
    "plt.plot(am_poM1['time'],am_poM1['Mw'],'o')\n",
    "plt.plot(perno_cluster1['time'],perno_cluster1['Mw'],'bo')"
   ]
  },
  {
   "cell_type": "code",
   "execution_count": null,
   "metadata": {},
   "outputs": [],
   "source": [
    "perno_cluster1 = perno_cluster1[((perno_cluster1['time'] >= end_date2)&(perno_cluster1[\"time\"] <= end_date3))]\n",
    "perno_cluster1= perno_cluster1.reset_index(drop=True)\n",
    "perno_cluster1"
   ]
  },
  {
   "cell_type": "code",
   "execution_count": null,
   "metadata": {},
   "outputs": [],
   "source": [
    "%matplotlib inline\n",
    "plt.figure(figsize=(10,5))\n",
    "plt.plot(am_poM1['time'],am_poM1['Mw'],'o')\n",
    "plt.plot(perno_cluster1['time'],perno_cluster1['Mw'],'bo')"
   ]
  },
  {
   "cell_type": "code",
   "execution_count": null,
   "metadata": {},
   "outputs": [],
   "source": [
    "#catalogue to use\n",
    "df = perno_cluster1.copy()\n",
    "df"
   ]
  },
  {
   "cell_type": "code",
   "execution_count": null,
   "metadata": {},
   "outputs": [],
   "source": [
    "# Reload class (e.g., to consider modifications in the code)\n",
    "import importlib\n",
    "import mc_lilliefors\n",
    "importlib.reload(mc_lilliefors)\n",
    "from mc_lilliefors import McLilliefors\n",
    "\n",
    "lill = McLilliefors(\n",
    "    df.Mw,\n",
    "    # signif_lev=0.1  # [default: 0.1]\n",
    ")\n",
    "\n",
    "lill.calc_testdistr_mcutoff(\n",
    "    n_repeats=50,  # number of iterations for the random noise\n",
    "    Mstart=1.0,  # lowest magnitude for which to perform the test\n",
    "    # log=False,  # whether to show anythe progress bar\n",
    ")\n",
    "\n"
   ]
  },
  {
   "cell_type": "code",
   "execution_count": null,
   "metadata": {},
   "outputs": [],
   "source": [
    "fig = lill.plot_testdist_expon_mcutoff()\n",
    "fig.layout.update(\n",
    "    xaxis_range=(1, 6.0),\n",
    ")\n",
    "\n",
    "fig.show(width=fig.layout.width, height=fig.layout.height)"
   ]
  },
  {
   "cell_type": "code",
   "execution_count": null,
   "metadata": {},
   "outputs": [],
   "source": [
    "Mc = lill.estimate_Mc_expon_test()\n",
    "\n",
    "print(\"Mc-Lilliefors: %s\\n   --> number of events ≥ Mc-Lilliefors: %d\" % (Mc, lill.estimates['n_compl']))"
   ]
  },
  {
   "cell_type": "code",
   "execution_count": null,
   "metadata": {},
   "outputs": [],
   "source": [
    "Mc_off=Mc"
   ]
  },
  {
   "cell_type": "code",
   "execution_count": null,
   "metadata": {},
   "outputs": [],
   "source": [
    "catalogue=perno_cluster1.copy()\n",
    "magnitudes=perno_cluster1['Mw']"
   ]
  },
  {
   "cell_type": "code",
   "execution_count": null,
   "metadata": {},
   "outputs": [],
   "source": [
    "# Magnitude bins\n",
    "\n",
    "min_mag=np.min(catalogue['Mw']) # estremi per il plot\n",
    "max_mag=np.max(catalogue['Mw'])+interval #estremi per il plot\n",
    "min_mag_bin=Mc\n",
    "max_mag_bin=np.max(catalogue['Mw'])+interval\n",
    "\n",
    "bins_off = np.arange(min_mag_bin, max_mag_bin, interval)\n",
    "# Magnitude bins for plotting - we will re-arrange bins later\n",
    "plot_bins_off = np.arange(min_mag, max_mag, interval)\n",
    "\n",
    "\n",
    "wwww=np.where(catalogue['Mw']>min_mag_bin)\n",
    "plt.hist(catalogue['Mw'].loc[wwww], bins_off, alpha = 0.5, label='a')\n",
    "plt.hist(catalogue['Mw'], plot_bins_off, alpha = 0.5, label='b')\n",
    "###########################################################################\n",
    "# Generate distribution\n",
    "###########################################################################\n",
    "# Generate histogram\n",
    "hist = np.histogram(catalogue['Mw'],bins=bins_off)\n",
    "hist_plot = np.histogram(catalogue['Mw'],bins=plot_bins_off)\n",
    "\n",
    "# Reverse array order\n",
    "hist = hist[0][::-1]\n",
    "bins_off = bins_off[::-1]\n",
    "#plot \n",
    "hist_plot = hist_plot[0][::-1]\n",
    "plot_bins_off = plot_bins_off[::-1]\n",
    "\n",
    "# Calculate cumulative sum\n",
    "cum_hist = hist.cumsum()\n",
    "# Ensure bins have the same length has the cumulative histogram.\n",
    "# Remove the upper bound for the highest interval.\n",
    "bins_off = bins_off[1:]\n",
    "\n",
    "\n",
    "cum_hist_plot_off = hist_plot.cumsum()\n",
    "plot_bins_off = plot_bins_off[1:]\n",
    "wherecum=np.where(cum_hist>0)\n",
    "#log_cum_sum = np.log10(cum_hist[2::])\n",
    "log_cum_sum_off = np.log10(cum_hist[wherecum])\n",
    "wherecumplot_off=np.where(cum_hist_plot_off>0)"
   ]
  },
  {
   "cell_type": "code",
   "execution_count": null,
   "metadata": {},
   "outputs": [],
   "source": []
  },
  {
   "cell_type": "code",
   "execution_count": null,
   "metadata": {},
   "outputs": [],
   "source": [
    "%matplotlib inline\n",
    "fig, ax = plt.subplots()\n",
    "perno_cluster1['Mw'].plot.hist(ax=ax, bins=50)#, bottom=1)"
   ]
  },
  {
   "cell_type": "code",
   "execution_count": null,
   "metadata": {},
   "outputs": [],
   "source": [
    "## Compute b-value and confidence interval\n",
    "#b, conf_int = b_value(mags, mt, perc=[2.5, 97.5], n_reps=10000)\n",
    "\n",
    "mags=magnitudes\n",
    "mt=Mc\n",
    "compute_b_value_mle, conf_int = compute_b_value(mags, mt,interval, perc=[2.5, 97.5], n_reps=10000)\n",
    "# Generate samples to for theoretical ECDF\n",
    "m_theor = np.random.exponential(compute_b_value_mle/np.log(10), size=100000) + mt \n",
    "# Plot the theoretical CDF\n",
    "_ = plt.plot(*dcst.ecdf(m_theor))\n",
    "\n",
    "# Plot the ECDF (slicing mags >= mt)\n",
    "_ = plt.plot(*dcst.ecdf(mags[mags >= mt]), marker='.', linestyle='none')\n",
    "\n",
    "# Pretty up and show the plot\n",
    "_ = plt.xlabel('magnitude')\n",
    "_ = plt.ylabel('ECDF')\n",
    "#_ = plt.xlim(2.8, 6.2)\n",
    "plt.show()\n",
    "\n",
    "# Report the results\n",
    "print(\"\"\"\n",
    "b-value: {0:.5f}\n",
    "95% conf int: [{1:.5f}, {2:.5f}]\"\"\".format(1/compute_b_value_mle, *conf_int**(-1)))\n",
    "compute_b_value_mle=1/compute_b_value_mle"
   ]
  },
  {
   "cell_type": "code",
   "execution_count": null,
   "metadata": {},
   "outputs": [],
   "source": [
    "b_off=compute_b_value_mle"
   ]
  },
  {
   "cell_type": "code",
   "execution_count": null,
   "metadata": {},
   "outputs": [],
   "source": [
    "num_eq=len(magnitudes)\n",
    "annual_num_eq = num_eq\n",
    "## Get annual rate\n",
    "cum_annual_rate = cum_hist\n",
    "\n",
    "new_cum_annual_rate = []\n",
    "for i in cum_annual_rate:\n",
    "    new_cum_annual_rate.append(i+1e-20)"
   ]
  },
  {
   "cell_type": "code",
   "execution_count": null,
   "metadata": {},
   "outputs": [],
   "source": [
    "# Generate data to plot maximum likelihood linear curve Eli\n",
    "\n",
    "num_eve=len(catalogue['Mw'].loc[np.where(catalogue['Mw']>min_mag_bin)])\n",
    "mle_fit = -1.0 * compute_b_value_mle *bins_off + 1.0 * compute_b_value_mle * min_mag_bin + np.log10(num_eve)\n",
    "log_mle_fit = []\n",
    "for value in mle_fit:\n",
    "    log_mle_fit.append(np.power(10,value))\n",
    "    \n",
    "# Compare b-value of 1\n",
    "fit_data = -1.0 * bins_off + min_mag_bin + np.log10(num_eve)\n",
    "log_fit_data = []\n",
    "for value in fit_data:\n",
    "    log_fit_data.append(np.power(10,value))\n",
    "\n",
    "print('compute_b_value_mle=',compute_b_value_mle)"
   ]
  },
  {
   "cell_type": "code",
   "execution_count": null,
   "metadata": {},
   "outputs": [],
   "source": [
    "log_mle_fit_off=log_mle_fit"
   ]
  },
  {
   "cell_type": "code",
   "execution_count": null,
   "metadata": {},
   "outputs": [],
   "source": [
    "fig, ax = plt.subplots(nrows=1, ncols=1, figsize=(18, 10))\n",
    "ax.plot(plot_bins_off[wherecumplot_off],(cum_hist_plot_off[wherecumplot_off]),'or',label='C1 - TE')\n",
    "ax.plot(bins_off, log_mle_fit_off, c = 'r', label = 'bvalue_MLE_off b=%.2f'%b_off)\n",
    "ax.plot([Mc_off ,Mc_off], [1, 1e6], linewidth=3, color='r')\n",
    "ax.set_yscale('log')\n",
    "ax.set_ylim(0.5, 1e6)\n",
    "ax.legend(fontsize=24)\n",
    "ax.set_ylabel('Number of events', fontsize=24)\n",
    "ax.set_xlabel('Magnitude', fontsize=24)\n",
    "ax.xaxis.set_tick_params(labelsize=20)\n",
    "ax.yaxis.set_tick_params(labelsize=20)\n",
    "ax.grid(color='0.95')"
   ]
  },
  {
   "cell_type": "code",
   "execution_count": null,
   "metadata": {},
   "outputs": [],
   "source": [
    "clus1_plot_bins_off=plot_bins_off[wherecumplot_off]\n",
    "clus1_plot_hist=(cum_hist_plot_off[wherecumplot_off])\n",
    "clus1_bins_off=bins_off\n",
    "clus1_log_mle_fit_off=log_mle_fit_off\n",
    "clus1_Mc_off=Mc_off\n",
    "b1_off=b_off"
   ]
  },
  {
   "cell_type": "markdown",
   "metadata": {},
   "source": [
    "### Where CLUSTER 2"
   ]
  },
  {
   "cell_type": "code",
   "execution_count": null,
   "metadata": {},
   "outputs": [],
   "source": [
    "where_cluster2 = (am_poM1['lon']>13.2335) &(am_poM1['lon']<13.245)&(am_poM1['lat']>42.89)&(am_poM1['lat']<42.905)&(am_poM1['depth']>2.1)&(am_poM1['depth']<4.55)\n",
    "perno_cluster2=am_poM1.copy()\n",
    "perno_cluster2=perno_cluster2.loc[where_cluster2]\n",
    "perno_cluster2= perno_cluster2.reset_index(drop=True)"
   ]
  },
  {
   "cell_type": "code",
   "execution_count": null,
   "metadata": {},
   "outputs": [],
   "source": [
    "perno_cluster2 = perno_cluster2[(perno_cluster2['time'] <= end_date1)]\n",
    "perno_cluster2= perno_cluster2.reset_index(drop=True)"
   ]
  },
  {
   "cell_type": "code",
   "execution_count": null,
   "metadata": {},
   "outputs": [],
   "source": [
    "where_cluster2b = (am_poM1['lon']>13.225) &(am_poM1['lon']<13.233)&(am_poM1['lat']>42.87)&(am_poM1['lat']<42.88)&(am_poM1['depth']>3)&(am_poM1['depth']<4.55)\n",
    "perno_cluster2b=am_poM1.copy()\n",
    "perno_cluster2b=perno_cluster2b.loc[where_cluster2b]\n",
    "perno_cluster2b= perno_cluster2b.reset_index(drop=True)"
   ]
  },
  {
   "cell_type": "code",
   "execution_count": null,
   "metadata": {},
   "outputs": [],
   "source": [
    "perno_cluster2b = perno_cluster2b[(perno_cluster2b['time'] <= end_date1)]\n",
    "perno_cluster2b= perno_cluster2b.reset_index(drop=True)\n",
    "perno_cluster2b"
   ]
  },
  {
   "cell_type": "code",
   "execution_count": null,
   "metadata": {},
   "outputs": [],
   "source": [
    "where_cluster2c = (am_poM1['lon']>13.2328) &(am_poM1['lon']<13.245)&(am_poM1['lat']>42.86)&(am_poM1['lat']<42.873)&(am_poM1['depth']>2.8)&(am_poM1['depth']<4.55)\n",
    "perno_cluster2c=am_poM1.copy()\n",
    "perno_cluster2c=perno_cluster2c.loc[where_cluster2c]\n",
    "perno_cluster2c= perno_cluster2c.reset_index(drop=True)"
   ]
  },
  {
   "cell_type": "code",
   "execution_count": null,
   "metadata": {},
   "outputs": [],
   "source": [
    "perno_cluster2c = perno_cluster2c[(perno_cluster2c['time'] <= end_date1)]\n",
    "perno_cluster2c= perno_cluster2c.reset_index(drop=True)\n",
    "perno_cluster2c"
   ]
  },
  {
   "cell_type": "code",
   "execution_count": null,
   "metadata": {},
   "outputs": [],
   "source": []
  },
  {
   "cell_type": "code",
   "execution_count": null,
   "metadata": {},
   "outputs": [],
   "source": []
  },
  {
   "cell_type": "code",
   "execution_count": null,
   "metadata": {},
   "outputs": [],
   "source": [
    "frames = [perno_cluster2, perno_cluster2b,perno_cluster2c]\n",
    "perno_cluster2tot = pd.concat(frames)\n",
    "perno_cluster2tot= perno_cluster2tot.reset_index(drop=True)"
   ]
  },
  {
   "cell_type": "code",
   "execution_count": null,
   "metadata": {},
   "outputs": [],
   "source": [
    "%matplotlib inline\n",
    "from mpl_toolkits.mplot3d import Axes3D  \n",
    "\n",
    "\n",
    "fig = plt.figure(figsize=(10,10))\n",
    "ax = fig.add_subplot(111, projection='3d')\n",
    "ax.view_init(0, 313)\n",
    "ax.scatter(perno_cluster2tot['lon'],perno_cluster2tot['lat'],perno_cluster2tot['depth'], c='r',marker='.')\n"
   ]
  },
  {
   "cell_type": "code",
   "execution_count": null,
   "metadata": {},
   "outputs": [],
   "source": [
    "%matplotlib inline\n",
    "plt.figure(figsize=(10,5))\n",
    "plt.plot(am_poM1['time'],am_poM1['Mw'],'o')\n",
    "plt.plot(perno_cluster2tot['time'],perno_cluster2tot['Mw'],'ro')"
   ]
  },
  {
   "cell_type": "code",
   "execution_count": null,
   "metadata": {},
   "outputs": [],
   "source": [
    "#catalogue to use\n",
    "df = perno_cluster2tot.copy()\n",
    "df"
   ]
  },
  {
   "cell_type": "code",
   "execution_count": null,
   "metadata": {},
   "outputs": [],
   "source": [
    "# Reload class (e.g., to consider modifications in the code)\n",
    "import importlib\n",
    "import mc_lilliefors\n",
    "importlib.reload(mc_lilliefors)\n",
    "from mc_lilliefors import McLilliefors\n",
    "\n",
    "lill = McLilliefors(\n",
    "    df.Mw,\n",
    "    # signif_lev=0.1  # [default: 0.1]\n",
    ")\n",
    "\n",
    "lill.calc_testdistr_mcutoff(\n",
    "    n_repeats=50,  # number of iterations for the random noise\n",
    "    Mstart=1.0,  # lowest magnitude for which to perform the test\n",
    "    # log=False,  # whether to show anythe progress bar\n",
    ")\n",
    "\n"
   ]
  },
  {
   "cell_type": "code",
   "execution_count": null,
   "metadata": {},
   "outputs": [],
   "source": [
    "fig = lill.plot_testdist_expon_mcutoff()\n",
    "fig.layout.update(\n",
    "    xaxis_range=(1, 6.0),\n",
    ")\n",
    "\n",
    "fig.show(width=fig.layout.width, height=fig.layout.height)"
   ]
  },
  {
   "cell_type": "code",
   "execution_count": null,
   "metadata": {},
   "outputs": [],
   "source": [
    "Mc = lill.estimate_Mc_expon_test()\n",
    "\n",
    "print(\"Mc-Lilliefors: %s\\n   --> number of events ≥ Mc-Lilliefors: %d\" % (Mc, lill.estimates['n_compl']))"
   ]
  },
  {
   "cell_type": "code",
   "execution_count": null,
   "metadata": {},
   "outputs": [],
   "source": [
    "Mc_off=Mc"
   ]
  },
  {
   "cell_type": "code",
   "execution_count": null,
   "metadata": {},
   "outputs": [],
   "source": [
    "catalogue=perno_cluster2tot.copy()\n",
    "magnitudes=perno_cluster2tot['Mw']"
   ]
  },
  {
   "cell_type": "code",
   "execution_count": null,
   "metadata": {},
   "outputs": [],
   "source": [
    "# Magnitude bins\n",
    "\n",
    "min_mag=np.min(catalogue['Mw']) # estremi per il plot\n",
    "max_mag=np.max(catalogue['Mw'])+interval #estremi per il plot\n",
    "min_mag_bin=Mc\n",
    "max_mag_bin=np.max(catalogue['Mw'])+interval\n",
    "\n",
    "bins_off = np.arange(min_mag_bin, max_mag_bin, interval)\n",
    "# Magnitude bins for plotting - we will re-arrange bins later\n",
    "plot_bins_off = np.arange(min_mag, max_mag, interval)\n",
    "\n",
    "\n",
    "wwww=np.where(catalogue['Mw']>min_mag_bin)\n",
    "plt.hist(catalogue['Mw'].loc[wwww], bins_off, alpha = 0.5, label='a')\n",
    "plt.hist(catalogue['Mw'], plot_bins_off, alpha = 0.5, label='b')\n",
    "###########################################################################\n",
    "# Generate distribution\n",
    "###########################################################################\n",
    "# Generate histogram\n",
    "hist = np.histogram(catalogue['Mw'],bins=bins_off)\n",
    "hist_plot = np.histogram(catalogue['Mw'],bins=plot_bins_off)\n",
    "\n",
    "# Reverse array order\n",
    "hist = hist[0][::-1]\n",
    "bins_off = bins_off[::-1]\n",
    "#plot \n",
    "hist_plot = hist_plot[0][::-1]\n",
    "plot_bins_off = plot_bins_off[::-1]\n",
    "\n",
    "# Calculate cumulative sum\n",
    "cum_hist = hist.cumsum()\n",
    "# Ensure bins have the same length has the cumulative histogram.\n",
    "# Remove the upper bound for the highest interval.\n",
    "bins_off = bins_off[1:]\n",
    "\n",
    "\n",
    "cum_hist_plot_off = hist_plot.cumsum()\n",
    "plot_bins_off = plot_bins_off[1:]\n",
    "wherecum=np.where(cum_hist>0)\n",
    "#log_cum_sum = np.log10(cum_hist[2::])\n",
    "log_cum_sum_off = np.log10(cum_hist[wherecum])\n",
    "wherecumplot_off=np.where(cum_hist_plot_off>0)"
   ]
  },
  {
   "cell_type": "code",
   "execution_count": null,
   "metadata": {},
   "outputs": [],
   "source": [
    "## Compute b-value and confidence interval\n",
    "#b, conf_int = b_value(mags, mt, perc=[2.5, 97.5], n_reps=10000)\n",
    "\n",
    "mags=magnitudes\n",
    "mt=Mc\n",
    "compute_b_value_mle, conf_int = compute_b_value(mags, mt,interval, perc=[2.5, 97.5], n_reps=10000)\n",
    "# Generate samples to for theoretical ECDF\n",
    "m_theor = np.random.exponential(compute_b_value_mle/np.log(10), size=100000) + mt \n",
    "# Plot the theoretical CDF\n",
    "_ = plt.plot(*dcst.ecdf(m_theor))\n",
    "\n",
    "# Plot the ECDF (slicing mags >= mt)\n",
    "_ = plt.plot(*dcst.ecdf(mags[mags >= mt]), marker='.', linestyle='none')\n",
    "\n",
    "# Pretty up and show the plot\n",
    "_ = plt.xlabel('magnitude')\n",
    "_ = plt.ylabel('ECDF')\n",
    "#_ = plt.xlim(2.8, 6.2)\n",
    "plt.show()\n",
    "\n",
    "# Report the results\n",
    "print(\"\"\"\n",
    "b-value: {0:.5f}\n",
    "95% conf int: [{1:.5f}, {2:.5f}]\"\"\".format(1/compute_b_value_mle, *conf_int**(-1)))\n",
    "compute_b_value_mle=1/compute_b_value_mle"
   ]
  },
  {
   "cell_type": "code",
   "execution_count": null,
   "metadata": {},
   "outputs": [],
   "source": [
    "b_off=compute_b_value_mle"
   ]
  },
  {
   "cell_type": "code",
   "execution_count": null,
   "metadata": {},
   "outputs": [],
   "source": [
    "num_eq=len(magnitudes)\n",
    "annual_num_eq = num_eq\n",
    "## Get annual rate\n",
    "cum_annual_rate = cum_hist\n",
    "\n",
    "new_cum_annual_rate = []\n",
    "for i in cum_annual_rate:\n",
    "    new_cum_annual_rate.append(i+1e-20)"
   ]
  },
  {
   "cell_type": "code",
   "execution_count": null,
   "metadata": {},
   "outputs": [],
   "source": [
    "# Generate data to plot maximum likelihood linear curve Eli\n",
    "\n",
    "num_eve=len(catalogue['Mw'].loc[np.where(catalogue['Mw']>min_mag_bin)])\n",
    "mle_fit = -1.0 * compute_b_value_mle *bins_off + 1.0 * compute_b_value_mle * min_mag_bin + np.log10(num_eve)\n",
    "log_mle_fit = []\n",
    "for value in mle_fit:\n",
    "    log_mle_fit.append(np.power(10,value))\n",
    "    \n",
    "# Compare b-value of 1\n",
    "fit_data = -1.0 * bins_off + min_mag_bin + np.log10(num_eve)\n",
    "log_fit_data = []\n",
    "for value in fit_data:\n",
    "    log_fit_data.append(np.power(10,value))\n",
    "\n",
    "print('compute_b_value_mle=',compute_b_value_mle)"
   ]
  },
  {
   "cell_type": "code",
   "execution_count": null,
   "metadata": {},
   "outputs": [],
   "source": [
    "log_mle_fit_off=log_mle_fit"
   ]
  },
  {
   "cell_type": "code",
   "execution_count": null,
   "metadata": {},
   "outputs": [],
   "source": [
    "fig, ax = plt.subplots(nrows=1, ncols=1, figsize=(18, 10))\n",
    "ax.plot(plot_bins_off[wherecumplot_off],(cum_hist_plot_off[wherecumplot_off]),'or',label='C2 - TE')\n",
    "ax.plot(bins_off, log_mle_fit_off, c = 'r', label = 'bvalue_MLE_off b=%.2f'%b_off)\n",
    "ax.plot([Mc_off ,Mc_off], [1, 1e6], linewidth=3, color='r')\n",
    "ax.set_yscale('log')\n",
    "ax.set_ylim(0.5, 1e6)\n",
    "ax.legend(fontsize=24)\n",
    "ax.set_ylabel('Number of events', fontsize=24)\n",
    "ax.set_xlabel('Magnitude', fontsize=24)\n",
    "ax.xaxis.set_tick_params(labelsize=20)\n",
    "ax.yaxis.set_tick_params(labelsize=20)\n",
    "ax.grid(color='0.95')"
   ]
  },
  {
   "cell_type": "code",
   "execution_count": null,
   "metadata": {},
   "outputs": [],
   "source": [
    "clus2tot_plot_bins_off=plot_bins_off[wherecumplot_off]\n",
    "clus2tot_plot_hist=(cum_hist_plot_off[wherecumplot_off])\n",
    "clus2tot_bins_off=bins_off\n",
    "clus2tot_log_mle_fit_off=log_mle_fit_off\n",
    "clus2tot_Mc_off=Mc_off\n",
    "b2tot_off=b_off"
   ]
  },
  {
   "cell_type": "markdown",
   "metadata": {},
   "source": [
    "### Where cluster 3\n"
   ]
  },
  {
   "cell_type": "code",
   "execution_count": null,
   "metadata": {},
   "outputs": [],
   "source": [
    "where_cluster3 = (am_poM1['lon']>13.248) &(am_poM1['lon']<13.275)&(am_poM1['lat']>42.842)&(am_poM1['lat']<42.872)&(am_poM1['depth']>2.2)&(am_poM1['depth']<4.55)\n"
   ]
  },
  {
   "cell_type": "code",
   "execution_count": null,
   "metadata": {},
   "outputs": [],
   "source": [
    "perno_cluster3=am_poM1.copy()\n",
    "perno_cluster3=perno_cluster3.loc[where_cluster3]\n",
    "perno_cluster3= perno_cluster3.reset_index(drop=True)"
   ]
  },
  {
   "cell_type": "code",
   "execution_count": null,
   "metadata": {},
   "outputs": [],
   "source": [
    "%matplotlib inline\n",
    "plt.figure(figsize=(10,5))\n",
    "plt.plot(am_poM1['time'],am_poM1['Mw'],'o')\n",
    "plt.plot(perno_cluster3['time'],perno_cluster3['Mw'],'go')"
   ]
  },
  {
   "cell_type": "code",
   "execution_count": null,
   "metadata": {},
   "outputs": [],
   "source": [
    "perno_cluster3 = perno_cluster3[(perno_cluster3['time'] <= end_date2)]\n",
    "perno_cluster3= perno_cluster3.reset_index(drop=True)\n",
    "perno_cluster3"
   ]
  },
  {
   "cell_type": "code",
   "execution_count": null,
   "metadata": {},
   "outputs": [],
   "source": [
    "%matplotlib inline\n",
    "from mpl_toolkits.mplot3d import Axes3D  \n",
    "\n",
    "\n",
    "fig = plt.figure(figsize=(10,10))\n",
    "ax = fig.add_subplot(111, projection='3d')\n",
    "ax.view_init(0, 313)\n",
    "ax.scatter(perno_cluster3['lon'],perno_cluster3['lat'],perno_cluster3['depth'], c='k',marker='.')\n"
   ]
  },
  {
   "cell_type": "code",
   "execution_count": null,
   "metadata": {},
   "outputs": [],
   "source": [
    "#catalogue to use\n",
    "df = perno_cluster3.copy()\n",
    "df"
   ]
  },
  {
   "cell_type": "code",
   "execution_count": null,
   "metadata": {},
   "outputs": [],
   "source": [
    "# Reload class (e.g., to consider modifications in the code)\n",
    "import importlib\n",
    "import mc_lilliefors\n",
    "importlib.reload(mc_lilliefors)\n",
    "from mc_lilliefors import McLilliefors\n",
    "\n",
    "lill = McLilliefors(\n",
    "    df.Mw,\n",
    "    # signif_lev=0.1  # [default: 0.1]\n",
    ")\n",
    "\n",
    "lill.calc_testdistr_mcutoff(\n",
    "    n_repeats=50,  # number of iterations for the random noise\n",
    "    Mstart=1.0,  # lowest magnitude for which to perform the test\n",
    "    # log=False,  # whether to show anythe progress bar\n",
    ")\n",
    "\n"
   ]
  },
  {
   "cell_type": "code",
   "execution_count": null,
   "metadata": {},
   "outputs": [],
   "source": [
    "fig = lill.plot_testdist_expon_mcutoff()\n",
    "fig.layout.update(\n",
    "    xaxis_range=(1, 6.0),\n",
    ")\n",
    "\n",
    "fig.show(width=fig.layout.width, height=fig.layout.height)"
   ]
  },
  {
   "cell_type": "code",
   "execution_count": null,
   "metadata": {},
   "outputs": [],
   "source": [
    "Mc = lill.estimate_Mc_expon_test()\n",
    "\n",
    "print(\"Mc-Lilliefors: %s\\n   --> number of events ≥ Mc-Lilliefors: %d\" % (Mc, lill.estimates['n_compl']))"
   ]
  },
  {
   "cell_type": "code",
   "execution_count": null,
   "metadata": {},
   "outputs": [],
   "source": [
    "Mc_off=Mc"
   ]
  },
  {
   "cell_type": "code",
   "execution_count": null,
   "metadata": {},
   "outputs": [],
   "source": [
    "catalogue=perno_cluster3.copy()\n",
    "magnitudes=perno_cluster3['Mw']"
   ]
  },
  {
   "cell_type": "code",
   "execution_count": null,
   "metadata": {},
   "outputs": [],
   "source": [
    "# Magnitude bins\n",
    "\n",
    "min_mag=np.min(catalogue['Mw']) # estremi per il plot\n",
    "max_mag=np.max(catalogue['Mw'])+interval #estremi per il plot\n",
    "min_mag_bin=Mc\n",
    "max_mag_bin=np.max(catalogue['Mw'])+interval\n",
    "\n",
    "bins_off = np.arange(min_mag_bin, max_mag_bin, interval)\n",
    "# Magnitude bins for plotting - we will re-arrange bins later\n",
    "plot_bins_off = np.arange(min_mag, max_mag, interval)\n",
    "\n",
    "\n",
    "wwww=np.where(catalogue['Mw']>min_mag_bin)\n",
    "plt.hist(catalogue['Mw'].loc[wwww], bins_off, alpha = 0.5, label='a')\n",
    "plt.hist(catalogue['Mw'], plot_bins_off, alpha = 0.5, label='b')\n",
    "###########################################################################\n",
    "# Generate distribution\n",
    "###########################################################################\n",
    "# Generate histogram\n",
    "hist = np.histogram(catalogue['Mw'],bins=bins_off)\n",
    "hist_plot = np.histogram(catalogue['Mw'],bins=plot_bins_off)\n",
    "\n",
    "# Reverse array order\n",
    "hist = hist[0][::-1]\n",
    "bins_off = bins_off[::-1]\n",
    "#plot \n",
    "hist_plot = hist_plot[0][::-1]\n",
    "plot_bins_off = plot_bins_off[::-1]\n",
    "\n",
    "# Calculate cumulative sum\n",
    "cum_hist = hist.cumsum()\n",
    "# Ensure bins have the same length has the cumulative histogram.\n",
    "# Remove the upper bound for the highest interval.\n",
    "bins_off = bins_off[1:]\n",
    "\n",
    "\n",
    "cum_hist_plot_off = hist_plot.cumsum()\n",
    "plot_bins_off = plot_bins_off[1:]\n",
    "wherecum=np.where(cum_hist>0)\n",
    "#log_cum_sum = np.log10(cum_hist[2::])\n",
    "log_cum_sum_off = np.log10(cum_hist[wherecum])\n",
    "wherecumplot_off=np.where(cum_hist_plot_off>0)"
   ]
  },
  {
   "cell_type": "code",
   "execution_count": null,
   "metadata": {},
   "outputs": [],
   "source": [
    "%matplotlib inline\n",
    "fig, ax = plt.subplots()\n",
    "perno_cluster3['Mw'].plot.hist(ax=ax, bins=50)#, bottom=1)"
   ]
  },
  {
   "cell_type": "code",
   "execution_count": null,
   "metadata": {},
   "outputs": [],
   "source": [
    "## Compute b-value and confidence interval\n",
    "#b, conf_int = b_value(mags, mt, perc=[2.5, 97.5], n_reps=10000)\n",
    "\n",
    "mags=magnitudes\n",
    "mt=Mc\n",
    "compute_b_value_mle, conf_int = compute_b_value(mags, mt,interval, perc=[2.5, 97.5], n_reps=10000)\n",
    "# Generate samples to for theoretical ECDF\n",
    "m_theor = np.random.exponential(compute_b_value_mle/np.log(10), size=100000) + mt \n",
    "# Plot the theoretical CDF\n",
    "_ = plt.plot(*dcst.ecdf(m_theor))\n",
    "\n",
    "# Plot the ECDF (slicing mags >= mt)\n",
    "_ = plt.plot(*dcst.ecdf(mags[mags >= mt]), marker='.', linestyle='none')\n",
    "\n",
    "# Pretty up and show the plot\n",
    "_ = plt.xlabel('magnitude')\n",
    "_ = plt.ylabel('ECDF')\n",
    "#_ = plt.xlim(2.8, 6.2)\n",
    "plt.show()\n",
    "\n",
    "# Report the results\n",
    "print(\"\"\"\n",
    "b-value: {0:.5f}\n",
    "95% conf int: [{1:.5f}, {2:.5f}]\"\"\".format(1/compute_b_value_mle, *conf_int**(-1)))\n",
    "compute_b_value_mle=1/compute_b_value_mle"
   ]
  },
  {
   "cell_type": "code",
   "execution_count": null,
   "metadata": {},
   "outputs": [],
   "source": [
    "\n",
    "b_off=compute_b_value_mle"
   ]
  },
  {
   "cell_type": "code",
   "execution_count": null,
   "metadata": {},
   "outputs": [],
   "source": [
    "num_eq=len(magnitudes)\n",
    "annual_num_eq = num_eq\n",
    "## Get annual rate\n",
    "cum_annual_rate = cum_hist\n",
    "\n",
    "new_cum_annual_rate = []\n",
    "for i in cum_annual_rate:\n",
    "    new_cum_annual_rate.append(i+1e-20)"
   ]
  },
  {
   "cell_type": "code",
   "execution_count": null,
   "metadata": {},
   "outputs": [],
   "source": [
    "# Generate data to plot maximum likelihood linear curve Eli\n",
    "\n",
    "num_eve=len(catalogue['Mw'].loc[np.where(catalogue['Mw']>min_mag_bin)])\n",
    "mle_fit = -1.0 * compute_b_value_mle *bins_off + 1.0 * compute_b_value_mle * min_mag_bin + np.log10(num_eve)\n",
    "log_mle_fit = []\n",
    "for value in mle_fit:\n",
    "    log_mle_fit.append(np.power(10,value))\n",
    "    \n",
    "# Compare b-value of 1\n",
    "fit_data = -1.0 * bins_off + min_mag_bin + np.log10(num_eve)\n",
    "log_fit_data = []\n",
    "for value in fit_data:\n",
    "    log_fit_data.append(np.power(10,value))\n",
    "\n",
    "print('compute_b_value_mle=',compute_b_value_mle)"
   ]
  },
  {
   "cell_type": "code",
   "execution_count": null,
   "metadata": {},
   "outputs": [],
   "source": [
    "log_mle_fit_off=log_mle_fit"
   ]
  },
  {
   "cell_type": "code",
   "execution_count": null,
   "metadata": {},
   "outputs": [],
   "source": [
    "%matplotlib inline\n",
    "fig, ax = plt.subplots(nrows=1, ncols=1, figsize=(18, 10))\n",
    "ax.plot(plot_bins_off[wherecumplot_off],(cum_hist_plot_off[wherecumplot_off]),'or',label='C3 fault - TE')\n",
    "ax.plot(bins_off, log_mle_fit_off, c = 'r', label = 'bvalue_MLE_off b=%.2f'%b_off)\n",
    "ax.plot([Mc_off ,Mc_off], [1, 1e6], linewidth=3, color='r')\n",
    "ax.set_yscale('log')\n",
    "ax.set_ylim(0.5, 1e6)\n",
    "ax.legend(fontsize=24)\n",
    "ax.set_ylabel('Number of events', fontsize=24)\n",
    "ax.set_xlabel('Magnitude', fontsize=24)\n",
    "ax.xaxis.set_tick_params(labelsize=20)\n",
    "ax.yaxis.set_tick_params(labelsize=20)\n",
    "ax.grid(color='0.95')"
   ]
  },
  {
   "cell_type": "code",
   "execution_count": null,
   "metadata": {},
   "outputs": [],
   "source": [
    "clus3_plot_bins_off=plot_bins_off[wherecumplot_off]\n",
    "clus3_plot_hist=(cum_hist_plot_off[wherecumplot_off])\n",
    "clus3_bins_off=bins_off\n",
    "clus3_log_mle_fit_off=log_mle_fit_off\n",
    "clus3_Mc_off=Mc_off\n",
    "b3_off=b_off"
   ]
  },
  {
   "cell_type": "code",
   "execution_count": null,
   "metadata": {},
   "outputs": [],
   "source": [
    "fig, ax = plt.subplots(nrows=1, ncols=1, figsize=(10, 10))\n",
    "ax.plot(clus1_plot_bins_off,clus1_plot_hist,'ob')#,label='Off fault - TE')\n",
    "ax.plot(clus1_bins_off, clus1_log_mle_fit_off, c = 'b', label = ' b TE-C1=%.2f'%b1_off)\n",
    "ax.plot([clus1_Mc_off ,clus1_Mc_off], [1, 1e6], linewidth=1, color='b')\n",
    "\n",
    "\n",
    "ax.plot(clus2tot_plot_bins_off,clus2tot_plot_hist,'or')#,label='Off fault - TE')\n",
    "ax.plot(clus2tot_bins_off, clus2tot_log_mle_fit_off, c = 'r', label = ' b TE-C2=%.2f'%b2tot_off)\n",
    "ax.plot([clus2tot_Mc_off ,clus2tot_Mc_off], [1, 1e6], linewidth=1, color='r')\n",
    "\n",
    "ax.plot(clus3_plot_bins_off,clus3_plot_hist,'og')#,label='Off fault - TE')\n",
    "ax.plot(clus3_bins_off, clus3_log_mle_fit_off, c = 'g', label = ' b TE-C3=%.2f'%b3_off)\n",
    "ax.plot([clus3_Mc_off ,clus3_Mc_off], [1, 1e6], linewidth=1, color='g')\n",
    "\n",
    "\n",
    "\n",
    "\n",
    "ax.set_yscale('log')\n",
    "ax.set_ylim(0.5, 10e4)\n",
    "ax.set_xlim(0., 6.5)\n",
    "ax.legend(fontsize=24)\n",
    "ax.set_ylabel('Number of events', fontsize=24)\n",
    "ax.set_xlabel('Magnitude', fontsize=24)\n",
    "ax.xaxis.set_tick_params(labelsize=20)\n",
    "ax.yaxis.set_tick_params(labelsize=20)\n",
    "ax.grid(color='0.95')\n",
    "fig.savefig(\"./figure/b_value_clusters.pdf\", bbox_inches='tight')"
   ]
  },
  {
   "cell_type": "code",
   "execution_count": null,
   "metadata": {},
   "outputs": [],
   "source": [
    "# to utm33\n",
    "utmx_perno1,utmy_perno1=utm33(np.array(perno_cluster1['lon']),np.array(perno_cluster1['lat']))\n",
    "utmx_perno2,utmy_perno2=utm33(np.array(perno_cluster2tot['lon']),np.array(perno_cluster2tot['lat']))\n",
    "utmx_perno3,utmy_perno3=utm33(np.array(perno_cluster3['lon']),np.array(perno_cluster3['lat']))\n"
   ]
  },
  {
   "cell_type": "code",
   "execution_count": null,
   "metadata": {},
   "outputs": [],
   "source": [
    "\n",
    "#Reference earthquake that is the center of the section\n",
    "pern_lon=13.2366\n",
    "pern_lat=42.8764\n",
    "pern_depth=7.\n",
    "\n",
    "utmx_pern,utmy_pern=utm33(pern_lon,pern_lat)\n",
    "mainev_pern=[utmx_pern/1000,utmy_pern/1000, -pern_depth ]\n",
    "mainev_pern=np.array(mainev_pern)\n",
    "#print(mainev_ref)\n",
    "\n",
    "dip_angle=90\n",
    "normal_tostrike=180-90   #direction of the section to plot\n",
    "normal_ref=[np.sin(dip_angle*np.pi/180)*np.cos(normal_tostrike*np.pi/180),-np.sin(normal_tostrike*np.pi/180)*np.sin(dip_angle*np.pi/180),np.cos(dip_angle*np.pi/180)]\n",
    "normal_ref_vertical=[np.cos(normal_tostrike*np.pi/180),-np.sin(normal_tostrike*np.pi/180)]\n",
    "\n",
    "#distance reference point\n",
    "dist_pern_ref=distance_point_from_plane(utmx_am/1000,utmy_am/1000, -am['depth'], normal_ref, mainev_pern)\n",
    "\n",
    "# selection distance < x\n",
    "resultdist1_pern = np.where(dist_pern_ref <5)\n",
    "\n",
    "# X on cross section \n",
    "X_on_pern=+(utmy_am[resultdist1_pern]/1000-mainev_pern[1])*normal_ref_vertical[0]-(utmx_am[resultdist1_pern]/1000-mainev_pern[0])*normal_ref_vertical[1]\n",
    "\n",
    "\n",
    "# to utm33\n",
    "#utmx_perno1,utmy_perno1=utm33(np.array(perno_cluster1['lon']),np.array(perno_cluster1['lat']))\n",
    "#utmx_perno3,utmy_perno3=utm33(np.array(perno_cluster3['lon']),np.array(perno_cluster3['lat']))\n",
    "#utmx_perno4,utmy_perno4=utm33(np.array(perno_cluster4['lon']),np.array(perno_cluster4['lat']))\n",
    "\n",
    "X_onsec_perno1_p=+(utmy_perno1/1000-mainev_pern[1])*normal_ref_vertical[0]-(utmx_perno1/1000-mainev_pern[0])*normal_ref_vertical[1]\n",
    "X_onsec_perno2_p=+(utmy_perno2/1000-mainev_pern[1])*normal_ref_vertical[0]-(utmx_perno2/1000-mainev_pern[0])*normal_ref_vertical[1]\n",
    "X_onsec_perno3_p=+(utmy_perno3/1000-mainev_pern[1])*normal_ref_vertical[0]-(utmx_perno3/1000-mainev_pern[0])*normal_ref_vertical[1]\n"
   ]
  },
  {
   "cell_type": "code",
   "execution_count": null,
   "metadata": {},
   "outputs": [],
   "source": [
    "\n",
    "fig, ax = plt.subplots(nrows=1, ncols=1, figsize=(18, 10))\n",
    "ax.scatter(X_on_pern,-am['depth'].loc[resultdist1_pern]/np.sin(dip_angle*np.pi/180),c='gray',s=0.2,marker='o',alpha=.5,label='x')\n",
    "ax.scatter(X_onsec_perno1_p,-perno_cluster1['depth']/np.sin(dip_angle*np.pi/180),c='b',s=0.1,marker='o',alpha=.5,label='x')\n",
    "\n",
    "ax.scatter(X_onsec_perno2_p,-perno_cluster2tot['depth']/np.sin(dip_angle*np.pi/180),c='r',s=0.1,marker='o',alpha=.5,label='x')\n",
    "ax.scatter(X_onsec_perno3_p,-perno_cluster3['depth']/np.sin(dip_angle*np.pi/180),c='g',s=0.1,marker='o',alpha=.5,label='x')\n",
    "\n",
    "\n",
    "#ax.scatter(fm_onsection_ref, -pern_depth/np.sin(dip_angle*np.pi/180), marker='*', c='r',s=250, label='Mw 6.5')\n",
    "#ax.set_title('5 km thick')\n",
    "ax.set_ylim(-10,0)\n",
    "ax.set_xlim(-5,5)\n",
    "ax.set_aspect('equal', adjustable='box')\n",
    "ax.set_xlabel('along longitude [km]',fontsize=18)\n",
    "ax.set_ylabel('depth[km]',fontsize=18)\n",
    "ax.xaxis.set_tick_params(labelsize=18)\n",
    "ax.yaxis.set_tick_params(labelsize=18)\n",
    "fig.savefig(\"./figure/cluster_along_long.pdf\", bbox_inches='tight')\n",
    "plt.savefig('./figure/cluster_along_long.png', bbox_inches='tight')"
   ]
  },
  {
   "cell_type": "code",
   "execution_count": null,
   "metadata": {},
   "outputs": [],
   "source": [
    "#utmx_grandi,utmy_grandi=utm33(np.array(grandi['lon']),np.array(grandi['lat']))\n",
    "#pern_lon=13.2366\n",
    "#pern_lat=42.8764\n",
    "#pern_depth=7.\n",
    "%matplotlib inline\n",
    "fig = plt.figure(figsize=(10,10))\n",
    "ax = fig.add_subplot(111)\n",
    "ax.scatter(am['lon'],am['lat'], s=0.1,marker='o', c='gray', alpha=.5)\n",
    "ax.scatter(perno_cluster1['lon'],perno_cluster1['lat'], s=0.01,marker='o', c='b', alpha=.5)\n",
    "ax.scatter(perno_cluster2tot['lon'],perno_cluster2tot['lat'], s=0.01,marker='o', c='r', alpha=.5)\n",
    "ax.scatter(perno_cluster3['lon'],perno_cluster3['lat'], s=0.01,marker='o', c='g', alpha=.5)\n",
    "plt.hlines(pern_lat,pern_lon-0.0612, pern_lon+0.0612, colors='k', linestyles='dashed') \n",
    "ax.scatter(lon_ref, lat_ref,s=200, c='yellow',marker='*', label='Norcia Mainshock')\n",
    "\n",
    "ax.set_xlim(13.,13.3)\n",
    "ax.set_ylim(42.775,43)\n",
    "ax.set_xlabel('longitude(°)',fontsize=18)\n",
    "ax.set_ylabel('latitude(°)',fontsize=18)\n",
    "ax.xaxis.set_tick_params(labelsize=18)\n",
    "ax.yaxis.set_tick_params(labelsize=18)\n",
    "fig.savefig(\"./figure/cluster_along_map.pdf\", bbox_inches='tight')\n",
    "plt.savefig('./figure/cluster_along_map.png', bbox_inches='tight')"
   ]
  },
  {
   "cell_type": "code",
   "execution_count": null,
   "metadata": {},
   "outputs": [],
   "source": []
  },
  {
   "cell_type": "code",
   "execution_count": null,
   "metadata": {},
   "outputs": [],
   "source": []
  },
  {
   "cell_type": "code",
   "execution_count": null,
   "metadata": {},
   "outputs": [],
   "source": []
  },
  {
   "cell_type": "code",
   "execution_count": null,
   "metadata": {},
   "outputs": [],
   "source": [
    "%matplotlib inline\n",
    "#datab=perno_cluster1.copy()\n",
    "datab=perno_cluster1[(perno_cluster1['Mw'] >=1)]\n",
    "datab= datab.reset_index(drop=True)\n",
    "\n",
    "year=pd.to_datetime(datab['time']).dt.year\n",
    "month=pd.to_datetime(datab['time']).dt.month\n",
    "day=pd.to_datetime(datab['time']).dt.day\n",
    "hour=pd.to_datetime(datab['time']).dt.hour\n",
    "minutes=pd.to_datetime(datab['time']).dt.minute\n",
    "seconds=pd.to_datetime(datab['time']).dt.second\n",
    "a_t_decYr = np.zeros( len(datab['Mw']))\n",
    "for i in range(  len(datab['Mw'])):\n",
    "    a_t_decYr[i] = seis_utils.dateTime2decYr( [year[i], month[i],day[i],hour[i],minutes[i],seconds[i]])\n",
    "fig, ax= plt.subplots(nrows=2, ncols=1, figsize=(10, 10))\n",
    "\n",
    "binwidth=1/365.\n",
    "ax[0].hist(a_t_decYr, bins=np.arange(min(a_t_decYr),max(a_t_decYr)+binwidth,binwidth),color='b')\n",
    "\n",
    "seismic_rate_off=a_t_decYr\n",
    "ax[1].scatter(datab['time'],datab['Mw'],color='b',marker='o')\n",
    "ax[1].set_xlabel('time',fontsize=16)\n",
    "ax[1].set_ylabel('Magnitude',fontsize=16)\n",
    "ax[0].set_ylabel('Seismicity rate',fontsize=16)\n",
    "ax[0].set(xticklabels=[])\n",
    "ax[0].yaxis.set_tick_params(labelsize=16)\n",
    "ax[1].xaxis.set_tick_params(labelsize=16,rotation=45)\n",
    "ax[1].yaxis.set_tick_params(labelsize=16)\n",
    "fig.savefig(\"./figure/seismicity_rateC1blue.pdf\", bbox_inches='tight')"
   ]
  },
  {
   "cell_type": "code",
   "execution_count": null,
   "metadata": {},
   "outputs": [],
   "source": [
    "datab=perno_cluster2tot[(perno_cluster2tot['Mw'] >=1)]\n",
    "datab= datab.reset_index(drop=True)\n",
    "\n",
    "year=pd.to_datetime(datab['time']).dt.year\n",
    "month=pd.to_datetime(datab['time']).dt.month\n",
    "day=pd.to_datetime(datab['time']).dt.day\n",
    "hour=pd.to_datetime(datab['time']).dt.hour\n",
    "minutes=pd.to_datetime(datab['time']).dt.minute\n",
    "seconds=pd.to_datetime(datab['time']).dt.second\n",
    "a_t_decYr = np.zeros( len(datab['Mw']))\n",
    "for i in range(  len(datab['Mw'])):\n",
    "    a_t_decYr[i] = seis_utils.dateTime2decYr( [year[i], month[i],day[i],hour[i],minutes[i],seconds[i]])\n",
    "#fig = plt.figure(figsize=(12,5))\n",
    "fig, ax= plt.subplots(nrows=2, ncols=1, figsize=(10, 10))\n",
    "\n",
    "#plt.hist(a_t_decYr,density=False, bins=100,color='r')\n",
    "binwidth=1/365.\n",
    "ax[0].hist(a_t_decYr, bins=np.arange(min(a_t_decYr),max(a_t_decYr)+binwidth,binwidth),color='r')\n",
    "\n",
    "#plt.hist(a_t_decYr, bins=np.arange(min(a_t_decYr),max(a_t_decYr)+binwidth,binwidth),color='r')\n",
    "seismic_rate_off=a_t_decYr\n",
    "ax[1].scatter(datab['time'],datab['Mw'],color='r',marker='o')\n",
    "ax[1].set_xlabel('time',fontsize=16)\n",
    "ax[1].set_ylabel('Magnitude',fontsize=16)\n",
    "ax[0].set_ylabel('Seismicity rate',fontsize=16)\n",
    "ax[0].set(xticklabels=[])\n",
    "ax[0].yaxis.set_tick_params(labelsize=16)\n",
    "ax[1].xaxis.set_tick_params(labelsize=16,rotation=45)\n",
    "ax[1].yaxis.set_tick_params(labelsize=16)\n",
    "fig.savefig(\"./figure/seismicity_rateC2rosso.pdf\", bbox_inches='tight')"
   ]
  },
  {
   "cell_type": "code",
   "execution_count": null,
   "metadata": {},
   "outputs": [],
   "source": [
    "#datab=perno_cluster4.copy()\n",
    "datab=perno_cluster3[(perno_cluster3['Mw'] >=1)]\n",
    "datab= datab.reset_index(drop=True)\n",
    "\n",
    "year=pd.to_datetime(datab['time']).dt.year\n",
    "month=pd.to_datetime(datab['time']).dt.month\n",
    "day=pd.to_datetime(datab['time']).dt.day\n",
    "hour=pd.to_datetime(datab['time']).dt.hour\n",
    "minutes=pd.to_datetime(datab['time']).dt.minute\n",
    "seconds=pd.to_datetime(datab['time']).dt.second\n",
    "a_t_decYr = np.zeros( len(datab['Mw']))\n",
    "for i in range(  len(datab['Mw'])):\n",
    "    a_t_decYr[i] = seis_utils.dateTime2decYr( [year[i], month[i],day[i],hour[i],minutes[i],seconds[i]])\n",
    "#fig = plt.figure(figsize=(12,5))\n",
    "fig, ax= plt.subplots(nrows=2, ncols=1, figsize=(10, 10))\n",
    "\n",
    "#plt.hist(a_t_decYr,density=False, bins=100,color='r')\n",
    "binwidth=1/365.\n",
    "ax[0].hist(a_t_decYr, bins=np.arange(min(a_t_decYr),max(a_t_decYr)+binwidth,binwidth),color='g')\n",
    "\n",
    "#plt.hist(a_t_decYr, bins=np.arange(min(a_t_decYr),max(a_t_decYr)+binwidth,binwidth),color='r')\n",
    "seismic_rate_off=a_t_decYr\n",
    "ax[1].scatter(datab['time'],datab['Mw'],color='g',marker='o')\n",
    "ax[1].set_xlabel('time',fontsize=20)\n",
    "ax[1].set_ylabel('Magnitude',fontsize=20)\n",
    "ax[0].set_ylabel('Seismicity rate',fontsize=20)\n",
    "ax[0].set(xticklabels=[])\n",
    "ax[0].yaxis.set_tick_params(labelsize=16)\n",
    "ax[1].xaxis.set_tick_params(labelsize=16,rotation=45)\n",
    "ax[1].yaxis.set_tick_params(labelsize=16)\n",
    "fig.savefig(\"./figure/seismicity_rateC3green.pdf\", bbox_inches='tight')"
   ]
  },
  {
   "cell_type": "code",
   "execution_count": null,
   "metadata": {},
   "outputs": [],
   "source": []
  },
  {
   "cell_type": "code",
   "execution_count": null,
   "metadata": {},
   "outputs": [],
   "source": []
  },
  {
   "cell_type": "code",
   "execution_count": null,
   "metadata": {},
   "outputs": [],
   "source": []
  },
  {
   "cell_type": "code",
   "execution_count": null,
   "metadata": {},
   "outputs": [],
   "source": []
  },
  {
   "cell_type": "code",
   "execution_count": null,
   "metadata": {},
   "outputs": [],
   "source": []
  },
  {
   "cell_type": "code",
   "execution_count": null,
   "metadata": {},
   "outputs": [],
   "source": []
  }
 ],
 "metadata": {
  "kernelspec": {
   "display_name": "Python 3 (ipykernel)",
   "language": "python",
   "name": "python3"
  },
  "language_info": {
   "codemirror_mode": {
    "name": "ipython",
    "version": 3
   },
   "file_extension": ".py",
   "mimetype": "text/x-python",
   "name": "python",
   "nbconvert_exporter": "python",
   "pygments_lexer": "ipython3",
   "version": "3.8.5"
  }
 },
 "nbformat": 4,
 "nbformat_minor": 4
}
